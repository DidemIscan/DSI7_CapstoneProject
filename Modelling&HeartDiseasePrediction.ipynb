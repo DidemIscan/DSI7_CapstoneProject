{
 "cells": [
  {
   "cell_type": "markdown",
   "metadata": {},
   "source": [
    "# Heart Disease Prediction with highest accuracy\n",
    "### Modelling, Heart Disease Prediction, Comparisons and Conclusion\n",
    "## DSI7 - Capstone Project \n",
    "### By Didem Iscan\n"
   ]
  },
  {
   "cell_type": "markdown",
   "metadata": {},
   "source": [
    "## Outline\n",
    "\n",
    "1. Introduction\n",
    "2. Data Cleaning\n",
    "    - Importing 4 different dataset & building a data frame\n",
    "    - Predicting missing values\n",
    "3. EDA \n",
    "    - Data description & plotting\n",
    "4. Modelling & Predicting\n",
    "    - Finding the best model & predict heart disease with highest accuracy  \n",
    "5. Comparing Best Model with dropped missing values vs predicted missing values\n",
    "    - Defining new data frame (dropped null values)\n",
    "    - Model the data frame & compare your scores with the best model\n",
    "6. Conclusion"
   ]
  },
  {
   "cell_type": "code",
   "execution_count": 1,
   "metadata": {},
   "outputs": [],
   "source": [
    "import pandas as pd\n",
    "import numpy as np\n",
    "import scipy.stats as stats\n",
    "import seaborn as sns\n",
    "import matplotlib.pyplot as plt\n",
    "\n",
    "from sklearn.tree import DecisionTreeRegressor, DecisionTreeClassifier\n",
    "from sklearn.metrics import mean_squared_error\n",
    "from sklearn.ensemble import BaggingRegressor, RandomForestRegressor, BaggingClassifier, RandomForestClassifier\n",
    "from sklearn.model_selection import GridSearchCV\n",
    "from tqdm import tqdm_notebook\n",
    "from sklearn import metrics\n",
    "from sklearn.preprocessing import StandardScaler\n",
    "from sklearn.model_selection import train_test_split, cross_val_score\n",
    "from sklearn.metrics import classification_report, confusion_matrix, accuracy_score, roc_curve, roc_auc_score\n",
    "from sklearn.svm import SVC, SVR\n",
    "from sklearn.linear_model import LinearRegression,Ridge,Lasso,ElasticNet,RidgeCV,LassoCV, ElasticNetCV, LogisticRegression, LogisticRegressionCV, Perceptron\n",
    "from sklearn.neighbors import KNeighborsClassifier, KNeighborsRegressor\n",
    "\n",
    "plt.style.use('fivethirtyeight')\n",
    "\n",
    "from ipywidgets import *\n",
    "from IPython.display import display\n",
    "\n",
    "import imp\n",
    "#plotter = imp.load_source('plotter', './plotting-code/roc_plotter.py')\n",
    "#from plotter import ROCLogisticPlotter\n",
    "\n",
    "plt.style.use('ggplot')\n",
    "%config InlineBackend.figure_format = 'retina'\n",
    "%matplotlib inline\n",
    "\n",
    "import warnings\n",
    "warnings.filterwarnings(\"ignore\")\n",
    "warnings.simplefilter(action='ignore', category=FutureWarning)\n",
    "from sklearn.exceptions import DataConversionWarning, ConvergenceWarning\n",
    "warnings.filterwarnings(action='ignore', category=DataConversionWarning)\n",
    "warnings.filterwarnings(action='ignore', category=ConvergenceWarning)\n",
    "#warnings.filterwarnings(action='ignore', category=SettingWithCopyWarning)\n",
    "#warnings.exceptions(action='ignore', category=UserWarning)\n",
    "\n",
    "with warnings.catch_warnings():\n",
    "    warnings.simplefilter(\"ignore\")\n",
    "    \n",
    "random_state = 1\n",
    "#by assigning a random_state I will be using the same random models\n",
    "np.random.seed(seed = 1)\n",
    "#this fill fix my random arrays for the predicted values // each time I will have the same random list"
   ]
  },
  {
   "cell_type": "markdown",
   "metadata": {},
   "source": [
    "### Importing the Data "
   ]
  },
  {
   "cell_type": "code",
   "execution_count": 2,
   "metadata": {},
   "outputs": [],
   "source": [
    "df = pd.read_csv('../DSI7_Capstone_Final/Datasets/df_nonull_updated.csv')"
   ]
  },
  {
   "cell_type": "markdown",
   "metadata": {},
   "source": [
    "# 4. Modelling & Predicting"
   ]
  },
  {
   "cell_type": "markdown",
   "metadata": {},
   "source": [
    "In this section, I analysed the data by using different models and find the best model which gives the best accuracy score for heart disease prediction. \n",
    "\n",
    "Subsections:\n",
    "1. Defining Values\n",
    "2. Modelling\n",
    "3. Improving the Modelling & Accuracy Score\n",
    "4. Model Selection\n",
    "\n",
    "** Defining the Values **  \n",
    "1. Define X & y\n",
    "    - X: whole the dataset except pred_attributes column\n",
    "    - y: pred_attributes\n",
    "        - The predicted values are 0, 1, 2, 3, and 4. I categorised it as 0 and 1, classified them by having a heart disease (1), or healthy (0). I replaced 2, 3, 4 to 1. \n",
    "2. Standardize the X\n",
    "3. Train&Test split\n",
    "4. Try different modelling\n",
    "    - Use classification model & confusion matrix\n",
    "    - Compare the accuracy score for each model\n",
    "5. Find the best model to predict heart disease\n",
    "\n",
    "\n",
    "** Modelling ** \n",
    "1. Logistic Regression\n",
    "2. Grid Search\n",
    "3. Use models and print the accuracy score for each model\n",
    "    - Compare the Cross Validation, Train, Test scores\n",
    "\n",
    "\n",
    "** Improving the Modelling & Accuracy Score **\n",
    "\n",
    "1. Finding the most related columns\n",
    "    - Check the correlation \n",
    "    - Check the best features of models from grid search\n",
    "        - choose the best columns \n",
    "2. Do the modelling for the best columns\n",
    "    - Compare the new accuracy scores\n",
    "\n",
    "\n",
    "** Model Selection ** \n",
    "1. Choose the best 3-5 models and continue analysis\n",
    "    * Change the parameters by using GirdSearch and see the improvement\n",
    "    * Pick the best model \n",
    "\n",
    "At the end I compared the scores and suggested the best model to predict heart disease. "
   ]
  },
  {
   "cell_type": "markdown",
   "metadata": {},
   "source": [
    "### Defining the Values"
   ]
  },
  {
   "cell_type": "markdown",
   "metadata": {},
   "source": [
    "** Defining the X & y Values ** "
   ]
  },
  {
   "cell_type": "code",
   "execution_count": 3,
   "metadata": {},
   "outputs": [
    {
     "data": {
      "text/html": [
       "<div>\n",
       "<style scoped>\n",
       "    .dataframe tbody tr th:only-of-type {\n",
       "        vertical-align: middle;\n",
       "    }\n",
       "\n",
       "    .dataframe tbody tr th {\n",
       "        vertical-align: top;\n",
       "    }\n",
       "\n",
       "    .dataframe thead th {\n",
       "        text-align: right;\n",
       "    }\n",
       "</style>\n",
       "<table border=\"1\" class=\"dataframe\">\n",
       "  <thead>\n",
       "    <tr style=\"text-align: right;\">\n",
       "      <th></th>\n",
       "      <th>age</th>\n",
       "      <th>sex</th>\n",
       "      <th>cp</th>\n",
       "      <th>trestbps</th>\n",
       "      <th>chol</th>\n",
       "      <th>fbs</th>\n",
       "      <th>restecg</th>\n",
       "      <th>thalach</th>\n",
       "      <th>exang</th>\n",
       "      <th>oldpeak</th>\n",
       "      <th>slop</th>\n",
       "      <th>ca</th>\n",
       "      <th>thal</th>\n",
       "      <th>origin</th>\n",
       "    </tr>\n",
       "  </thead>\n",
       "  <tbody>\n",
       "    <tr>\n",
       "      <th>0</th>\n",
       "      <td>41.0</td>\n",
       "      <td>0.0</td>\n",
       "      <td>2.0</td>\n",
       "      <td>130.0</td>\n",
       "      <td>204.0</td>\n",
       "      <td>0.0</td>\n",
       "      <td>2.0</td>\n",
       "      <td>172.0</td>\n",
       "      <td>0.0</td>\n",
       "      <td>1.4</td>\n",
       "      <td>1.0</td>\n",
       "      <td>0.0</td>\n",
       "      <td>3.0</td>\n",
       "      <td>Cleveland</td>\n",
       "    </tr>\n",
       "    <tr>\n",
       "      <th>1</th>\n",
       "      <td>57.0</td>\n",
       "      <td>0.0</td>\n",
       "      <td>4.0</td>\n",
       "      <td>120.0</td>\n",
       "      <td>354.0</td>\n",
       "      <td>0.0</td>\n",
       "      <td>0.0</td>\n",
       "      <td>163.0</td>\n",
       "      <td>1.0</td>\n",
       "      <td>0.6</td>\n",
       "      <td>1.0</td>\n",
       "      <td>0.0</td>\n",
       "      <td>3.0</td>\n",
       "      <td>Cleveland</td>\n",
       "    </tr>\n",
       "    <tr>\n",
       "      <th>2</th>\n",
       "      <td>56.0</td>\n",
       "      <td>0.0</td>\n",
       "      <td>2.0</td>\n",
       "      <td>140.0</td>\n",
       "      <td>294.0</td>\n",
       "      <td>0.0</td>\n",
       "      <td>2.0</td>\n",
       "      <td>153.0</td>\n",
       "      <td>0.0</td>\n",
       "      <td>1.3</td>\n",
       "      <td>2.0</td>\n",
       "      <td>0.0</td>\n",
       "      <td>3.0</td>\n",
       "      <td>Cleveland</td>\n",
       "    </tr>\n",
       "    <tr>\n",
       "      <th>3</th>\n",
       "      <td>48.0</td>\n",
       "      <td>0.0</td>\n",
       "      <td>3.0</td>\n",
       "      <td>130.0</td>\n",
       "      <td>275.0</td>\n",
       "      <td>0.0</td>\n",
       "      <td>0.0</td>\n",
       "      <td>139.0</td>\n",
       "      <td>0.0</td>\n",
       "      <td>0.2</td>\n",
       "      <td>1.0</td>\n",
       "      <td>0.0</td>\n",
       "      <td>3.0</td>\n",
       "      <td>Cleveland</td>\n",
       "    </tr>\n",
       "    <tr>\n",
       "      <th>4</th>\n",
       "      <td>58.0</td>\n",
       "      <td>0.0</td>\n",
       "      <td>1.0</td>\n",
       "      <td>150.0</td>\n",
       "      <td>283.0</td>\n",
       "      <td>1.0</td>\n",
       "      <td>2.0</td>\n",
       "      <td>162.0</td>\n",
       "      <td>0.0</td>\n",
       "      <td>1.0</td>\n",
       "      <td>1.0</td>\n",
       "      <td>0.0</td>\n",
       "      <td>3.0</td>\n",
       "      <td>Cleveland</td>\n",
       "    </tr>\n",
       "  </tbody>\n",
       "</table>\n",
       "</div>"
      ],
      "text/plain": [
       "    age  sex   cp  trestbps   chol  fbs  restecg  thalach  exang  oldpeak  \\\n",
       "0  41.0  0.0  2.0     130.0  204.0  0.0      2.0    172.0    0.0      1.4   \n",
       "1  57.0  0.0  4.0     120.0  354.0  0.0      0.0    163.0    1.0      0.6   \n",
       "2  56.0  0.0  2.0     140.0  294.0  0.0      2.0    153.0    0.0      1.3   \n",
       "3  48.0  0.0  3.0     130.0  275.0  0.0      0.0    139.0    0.0      0.2   \n",
       "4  58.0  0.0  1.0     150.0  283.0  1.0      2.0    162.0    0.0      1.0   \n",
       "\n",
       "   slop   ca  thal     origin  \n",
       "0   1.0  0.0   3.0  Cleveland  \n",
       "1   1.0  0.0   3.0  Cleveland  \n",
       "2   2.0  0.0   3.0  Cleveland  \n",
       "3   1.0  0.0   3.0  Cleveland  \n",
       "4   1.0  0.0   3.0  Cleveland  "
      ]
     },
     "execution_count": 3,
     "metadata": {},
     "output_type": "execute_result"
    }
   ],
   "source": [
    "X = df[['age', 'sex', 'cp', 'trestbps', 'chol', 'fbs', 'restecg','thalach', 'exang', 'oldpeak', \n",
    "        'slop', 'ca', 'thal','origin']]\n",
    "X.head()"
   ]
  },
  {
   "cell_type": "code",
   "execution_count": 4,
   "metadata": {},
   "outputs": [],
   "source": [
    "y = df[['pred_attribute']]"
   ]
  },
  {
   "cell_type": "code",
   "execution_count": 5,
   "metadata": {},
   "outputs": [
    {
     "data": {
      "text/plain": [
       "0.0    411\n",
       "1.0    196\n",
       "2.0    135\n",
       "3.0    135\n",
       "4.0     43\n",
       "Name: pred_attribute, dtype: int64"
      ]
     },
     "execution_count": 5,
     "metadata": {},
     "output_type": "execute_result"
    }
   ],
   "source": [
    "y.pred_attribute.value_counts()"
   ]
  },
  {
   "cell_type": "markdown",
   "metadata": {},
   "source": [
    "** Modifying the y value ** "
   ]
  },
  {
   "cell_type": "code",
   "execution_count": 6,
   "metadata": {},
   "outputs": [],
   "source": [
    "y['pred_attribute'].replace(to_replace = [1,2,3,4], value = [1,1,1,1], inplace = True)"
   ]
  },
  {
   "cell_type": "code",
   "execution_count": 7,
   "metadata": {},
   "outputs": [
    {
     "data": {
      "text/plain": [
       "1.0    509\n",
       "0.0    411\n",
       "Name: pred_attribute, dtype: int64"
      ]
     },
     "execution_count": 7,
     "metadata": {},
     "output_type": "execute_result"
    }
   ],
   "source": [
    "y.pred_attribute.value_counts()"
   ]
  },
  {
   "cell_type": "markdown",
   "metadata": {},
   "source": [
    "** Get Dummies for Categorical Values & Standardizing the X ** "
   ]
  },
  {
   "cell_type": "code",
   "execution_count": 8,
   "metadata": {},
   "outputs": [],
   "source": [
    "X_dum = pd.get_dummies(X, columns= ['sex', 'cp', 'fbs', 'restecg', 'exang', 'slop', 'ca', 'thal', 'origin'], \n",
    "                       drop_first=True)"
   ]
  },
  {
   "cell_type": "code",
   "execution_count": 9,
   "metadata": {},
   "outputs": [
    {
     "data": {
      "text/html": [
       "<div>\n",
       "<style scoped>\n",
       "    .dataframe tbody tr th:only-of-type {\n",
       "        vertical-align: middle;\n",
       "    }\n",
       "\n",
       "    .dataframe tbody tr th {\n",
       "        vertical-align: top;\n",
       "    }\n",
       "\n",
       "    .dataframe thead th {\n",
       "        text-align: right;\n",
       "    }\n",
       "</style>\n",
       "<table border=\"1\" class=\"dataframe\">\n",
       "  <thead>\n",
       "    <tr style=\"text-align: right;\">\n",
       "      <th></th>\n",
       "      <th>age</th>\n",
       "      <th>trestbps</th>\n",
       "      <th>chol</th>\n",
       "      <th>thalach</th>\n",
       "      <th>oldpeak</th>\n",
       "      <th>sex_1.0</th>\n",
       "      <th>cp_2.0</th>\n",
       "      <th>cp_3.0</th>\n",
       "      <th>cp_4.0</th>\n",
       "      <th>fbs_0.0</th>\n",
       "      <th>...</th>\n",
       "      <th>ca_1.0</th>\n",
       "      <th>ca_2.0</th>\n",
       "      <th>ca_3.0</th>\n",
       "      <th>ca_9.0</th>\n",
       "      <th>thal_3.0</th>\n",
       "      <th>thal_6.0</th>\n",
       "      <th>thal_7.0</th>\n",
       "      <th>origin_Hungarian</th>\n",
       "      <th>origin_LongBeach</th>\n",
       "      <th>origin_Switzerland</th>\n",
       "    </tr>\n",
       "  </thead>\n",
       "  <tbody>\n",
       "    <tr>\n",
       "      <th>0</th>\n",
       "      <td>-1.328180</td>\n",
       "      <td>-0.114381</td>\n",
       "      <td>0.090357</td>\n",
       "      <td>1.363763</td>\n",
       "      <td>0.463595</td>\n",
       "      <td>-1.934494</td>\n",
       "      <td>2.070593</td>\n",
       "      <td>-0.533775</td>\n",
       "      <td>-1.081578</td>\n",
       "      <td>0.434316</td>\n",
       "      <td>...</td>\n",
       "      <td>-0.398359</td>\n",
       "      <td>-0.377964</td>\n",
       "      <td>-0.152837</td>\n",
       "      <td>-0.032987</td>\n",
       "      <td>1.707306</td>\n",
       "      <td>-0.249711</td>\n",
       "      <td>-0.807283</td>\n",
       "      <td>-0.685309</td>\n",
       "      <td>-0.527046</td>\n",
       "      <td>-0.392847</td>\n",
       "    </tr>\n",
       "    <tr>\n",
       "      <th>1</th>\n",
       "      <td>0.370413</td>\n",
       "      <td>-0.637777</td>\n",
       "      <td>1.410084</td>\n",
       "      <td>1.013477</td>\n",
       "      <td>-0.285023</td>\n",
       "      <td>-1.934494</td>\n",
       "      <td>-0.482953</td>\n",
       "      <td>-0.533775</td>\n",
       "      <td>0.924575</td>\n",
       "      <td>0.434316</td>\n",
       "      <td>...</td>\n",
       "      <td>-0.398359</td>\n",
       "      <td>-0.377964</td>\n",
       "      <td>-0.152837</td>\n",
       "      <td>-0.032987</td>\n",
       "      <td>1.707306</td>\n",
       "      <td>-0.249711</td>\n",
       "      <td>-0.807283</td>\n",
       "      <td>-0.685309</td>\n",
       "      <td>-0.527046</td>\n",
       "      <td>-0.392847</td>\n",
       "    </tr>\n",
       "    <tr>\n",
       "      <th>2</th>\n",
       "      <td>0.264251</td>\n",
       "      <td>0.409014</td>\n",
       "      <td>0.882193</td>\n",
       "      <td>0.624269</td>\n",
       "      <td>0.370018</td>\n",
       "      <td>-1.934494</td>\n",
       "      <td>2.070593</td>\n",
       "      <td>-0.533775</td>\n",
       "      <td>-1.081578</td>\n",
       "      <td>0.434316</td>\n",
       "      <td>...</td>\n",
       "      <td>-0.398359</td>\n",
       "      <td>-0.377964</td>\n",
       "      <td>-0.152837</td>\n",
       "      <td>-0.032987</td>\n",
       "      <td>1.707306</td>\n",
       "      <td>-0.249711</td>\n",
       "      <td>-0.807283</td>\n",
       "      <td>-0.685309</td>\n",
       "      <td>-0.527046</td>\n",
       "      <td>-0.392847</td>\n",
       "    </tr>\n",
       "    <tr>\n",
       "      <th>3</th>\n",
       "      <td>-0.585045</td>\n",
       "      <td>-0.114381</td>\n",
       "      <td>0.715028</td>\n",
       "      <td>0.079379</td>\n",
       "      <td>-0.659332</td>\n",
       "      <td>-1.934494</td>\n",
       "      <td>-0.482953</td>\n",
       "      <td>1.873447</td>\n",
       "      <td>-1.081578</td>\n",
       "      <td>0.434316</td>\n",
       "      <td>...</td>\n",
       "      <td>-0.398359</td>\n",
       "      <td>-0.377964</td>\n",
       "      <td>-0.152837</td>\n",
       "      <td>-0.032987</td>\n",
       "      <td>1.707306</td>\n",
       "      <td>-0.249711</td>\n",
       "      <td>-0.807283</td>\n",
       "      <td>-0.685309</td>\n",
       "      <td>-0.527046</td>\n",
       "      <td>-0.392847</td>\n",
       "    </tr>\n",
       "    <tr>\n",
       "      <th>4</th>\n",
       "      <td>0.476575</td>\n",
       "      <td>0.932410</td>\n",
       "      <td>0.785413</td>\n",
       "      <td>0.974556</td>\n",
       "      <td>0.089286</td>\n",
       "      <td>-1.934494</td>\n",
       "      <td>-0.482953</td>\n",
       "      <td>-0.533775</td>\n",
       "      <td>-1.081578</td>\n",
       "      <td>-2.302470</td>\n",
       "      <td>...</td>\n",
       "      <td>-0.398359</td>\n",
       "      <td>-0.377964</td>\n",
       "      <td>-0.152837</td>\n",
       "      <td>-0.032987</td>\n",
       "      <td>1.707306</td>\n",
       "      <td>-0.249711</td>\n",
       "      <td>-0.807283</td>\n",
       "      <td>-0.685309</td>\n",
       "      <td>-0.527046</td>\n",
       "      <td>-0.392847</td>\n",
       "    </tr>\n",
       "  </tbody>\n",
       "</table>\n",
       "<p>5 rows × 30 columns</p>\n",
       "</div>"
      ],
      "text/plain": [
       "        age  trestbps      chol   thalach   oldpeak   sex_1.0    cp_2.0  \\\n",
       "0 -1.328180 -0.114381  0.090357  1.363763  0.463595 -1.934494  2.070593   \n",
       "1  0.370413 -0.637777  1.410084  1.013477 -0.285023 -1.934494 -0.482953   \n",
       "2  0.264251  0.409014  0.882193  0.624269  0.370018 -1.934494  2.070593   \n",
       "3 -0.585045 -0.114381  0.715028  0.079379 -0.659332 -1.934494 -0.482953   \n",
       "4  0.476575  0.932410  0.785413  0.974556  0.089286 -1.934494 -0.482953   \n",
       "\n",
       "     cp_3.0    cp_4.0   fbs_0.0         ...            ca_1.0    ca_2.0  \\\n",
       "0 -0.533775 -1.081578  0.434316         ...         -0.398359 -0.377964   \n",
       "1 -0.533775  0.924575  0.434316         ...         -0.398359 -0.377964   \n",
       "2 -0.533775 -1.081578  0.434316         ...         -0.398359 -0.377964   \n",
       "3  1.873447 -1.081578  0.434316         ...         -0.398359 -0.377964   \n",
       "4 -0.533775 -1.081578 -2.302470         ...         -0.398359 -0.377964   \n",
       "\n",
       "     ca_3.0    ca_9.0  thal_3.0  thal_6.0  thal_7.0  origin_Hungarian  \\\n",
       "0 -0.152837 -0.032987  1.707306 -0.249711 -0.807283         -0.685309   \n",
       "1 -0.152837 -0.032987  1.707306 -0.249711 -0.807283         -0.685309   \n",
       "2 -0.152837 -0.032987  1.707306 -0.249711 -0.807283         -0.685309   \n",
       "3 -0.152837 -0.032987  1.707306 -0.249711 -0.807283         -0.685309   \n",
       "4 -0.152837 -0.032987  1.707306 -0.249711 -0.807283         -0.685309   \n",
       "\n",
       "   origin_LongBeach  origin_Switzerland  \n",
       "0         -0.527046           -0.392847  \n",
       "1         -0.527046           -0.392847  \n",
       "2         -0.527046           -0.392847  \n",
       "3         -0.527046           -0.392847  \n",
       "4         -0.527046           -0.392847  \n",
       "\n",
       "[5 rows x 30 columns]"
      ]
     },
     "execution_count": 9,
     "metadata": {},
     "output_type": "execute_result"
    }
   ],
   "source": [
    "scaler = StandardScaler()\n",
    "Xs = scaler.fit_transform(X_dum)\n",
    "Xs = pd.DataFrame(Xs, columns=X_dum.columns)\n",
    "Xs.head()"
   ]
  },
  {
   "cell_type": "markdown",
   "metadata": {},
   "source": [
    "** Finding the Baseline ** "
   ]
  },
  {
   "cell_type": "code",
   "execution_count": 10,
   "metadata": {},
   "outputs": [
    {
     "name": "stdout",
     "output_type": "stream",
     "text": [
      "Baseline:\n",
      "1.0    0.553261\n",
      "0.0    0.446739\n",
      "Name: pred_attribute, dtype: float64\n"
     ]
    }
   ],
   "source": [
    "y.pred_attribute.value_counts(normalize=True)\n",
    "print('Baseline:')\n",
    "print(y.pred_attribute.value_counts(normalize=True))"
   ]
  },
  {
   "cell_type": "markdown",
   "metadata": {},
   "source": [
    "** Train-Test Split ** "
   ]
  },
  {
   "cell_type": "code",
   "execution_count": 11,
   "metadata": {},
   "outputs": [],
   "source": [
    "y = y.pred_attribute"
   ]
  },
  {
   "cell_type": "code",
   "execution_count": 12,
   "metadata": {},
   "outputs": [],
   "source": [
    "X_train, X_test, y_train, y_test = train_test_split(Xs, y, test_size = 0.3,random_state=random_state)"
   ]
  },
  {
   "cell_type": "code",
   "execution_count": 13,
   "metadata": {},
   "outputs": [
    {
     "data": {
      "text/html": [
       "<div>\n",
       "<style scoped>\n",
       "    .dataframe tbody tr th:only-of-type {\n",
       "        vertical-align: middle;\n",
       "    }\n",
       "\n",
       "    .dataframe tbody tr th {\n",
       "        vertical-align: top;\n",
       "    }\n",
       "\n",
       "    .dataframe thead th {\n",
       "        text-align: right;\n",
       "    }\n",
       "</style>\n",
       "<table border=\"1\" class=\"dataframe\">\n",
       "  <thead>\n",
       "    <tr style=\"text-align: right;\">\n",
       "      <th></th>\n",
       "      <th>Training</th>\n",
       "      <th>Test</th>\n",
       "      <th>Total</th>\n",
       "    </tr>\n",
       "  </thead>\n",
       "  <tbody>\n",
       "    <tr>\n",
       "      <th>Healthy</th>\n",
       "      <td>351.0</td>\n",
       "      <td>158.0</td>\n",
       "      <td>509.0</td>\n",
       "    </tr>\n",
       "    <tr>\n",
       "      <th>Sick</th>\n",
       "      <td>293.0</td>\n",
       "      <td>118.0</td>\n",
       "      <td>411.0</td>\n",
       "    </tr>\n",
       "  </tbody>\n",
       "</table>\n",
       "</div>"
      ],
      "text/plain": [
       "         Training   Test  Total\n",
       "Healthy     351.0  158.0  509.0\n",
       "Sick        293.0  118.0  411.0"
      ]
     },
     "execution_count": 13,
     "metadata": {},
     "output_type": "execute_result"
    }
   ],
   "source": [
    "freqs = pd.DataFrame({'Training': [y_train.sum(),y_train.shape[0] - y_train.sum()],\n",
    "                      'Test':[y_test.sum(), y_test.shape[0] - y_test.sum()]}, index=['Healthy', 'Sick'])\n",
    "freqs['Total'] = freqs.Training + freqs.Test\n",
    "freqs"
   ]
  },
  {
   "cell_type": "markdown",
   "metadata": {},
   "source": [
    "### Modelling\n",
    "\n",
    "1. Define the models\n",
    "2. Cross Validate on test data \n",
    "    - get CV score for train\n",
    "3. Fit the model \n",
    "    - Check the train & test scores\n",
    "    - Accuracy Scores"
   ]
  },
  {
   "cell_type": "code",
   "execution_count": 14,
   "metadata": {},
   "outputs": [],
   "source": [
    "def grid_search_func_tt(model, params, X_train, X_test, y_train, y_test, scoring_function=metrics.r2_score, \n",
    "                        scoring='r2',cv=5):\n",
    "    gs = GridSearchCV(\n",
    "        estimator=model,\n",
    "        param_grid=params,\n",
    "        return_train_score=True,\n",
    "        scoring=scoring,\n",
    "        cv=cv,\n",
    "        iid=False)\n",
    "\n",
    "    gs.fit(X_train, y_train)\n",
    "\n",
    "    print(\"Best score\")\n",
    "    print(gs.best_score_)\n",
    "    print()\n",
    "    print(\"Best estimator\")\n",
    "    print(gs.best_estimator_.get_params())\n",
    "    print()\n",
    "\n",
    "    predictions = gs.best_estimator_.predict(X_test)\n",
    "    print('Test score: ', scoring_function(y_test, predictions))\n",
    "\n",
    "\n",
    "    return gs"
   ]
  },
  {
   "cell_type": "code",
   "execution_count": 15,
   "metadata": {},
   "outputs": [],
   "source": [
    "def score_compare(X_train,X_test,y_train,y_test,model):\n",
    "    print('Model:', model)\n",
    "    print('')\n",
    "    print('CV Test Score:', cross_val_score(model, X_test, y_test, cv=5).mean())\n",
    "    print('CV Train Score:', cross_val_score(model, X_train, y_train, cv=5).mean())\n",
    "\n",
    "    model.fit(X_train, y_train)\n",
    "    print('Training Data Accuracy Score:', model.score(X_train, y_train))\n",
    "    print('Test Data Accuracy Score:', model.score(X_test, y_test))\n",
    "    print('')\n"
   ]
  },
  {
   "cell_type": "code",
   "execution_count": 16,
   "metadata": {},
   "outputs": [],
   "source": [
    "#regressor\n",
    "params_dtr = {'max_depth': list(range(1,11))+[None],'max_leaf_nodes': [5, 6, 7, 8, 9, 10],\n",
    "              'min_samples_leaf': [1, 2, 3, 4], 'min_samples_split':[5,10,15,20,25,30,40,50]}\n",
    "params_rfr = {'n_estimators': np.arange(10,100,10), 'max_depth': np.linspace(10,10,10), \n",
    "              'max_features': ['auto','sqrt'], 'bootstrap':['True','False']}\n",
    "params_bgr = {'base_estimator':[None, DecisionTreeRegressor(),KNeighborsRegressor(),SVR()],\n",
    "              'n_estimators':np.arange(10,100,10), 'max_samples':np.linspace(0.8, 1.0, 3), \n",
    "              'max_features':range(int(3/4.*X.shape[1]), X.shape[1]+1), 'bootstrap':['True','False']}\n",
    "\n",
    "#classifier\n",
    "params_dtc = {'criterion':['gini', 'entropy'], 'max_depth':np.arange(1,11), 'max_features':range(1,X.shape[1]+1),\n",
    "              'min_samples_split':[5,10,15,20,25,30,40,50]}\n",
    "params_rfc = {'criterion': ['gini', 'entropy'], 'n_estimators':np.arange(10,100,10), \n",
    "              #'max_samples': np.linspace(0.8, 1.0, 3), \n",
    "              'bootstrap':['True','False'], \n",
    "              'max_features':['auto', 'sqrt', 'log2'], 'max_depth' : [1, 5, 10, 15, 20, 25, 30], \n",
    "              'min_samples_leaf' : [1, 2, 4, 6, 8, 10]}\n",
    "params_bgc = {'base_estimator':[None, Perceptron(),KNeighborsClassifier(),SVC()], \n",
    "              'n_estimators':np.arange(10,100,10), 'max_samples': np.linspace(0.8, 1.0, 3), \n",
    "              'max_features':range(int(3/4.*X.shape[1]), X.shape[1]+1), 'bootstrap': ['True','False']}"
   ]
  },
  {
   "cell_type": "code",
   "execution_count": 17,
   "metadata": {},
   "outputs": [],
   "source": [
    "#regressor\n",
    "model_dtr = DecisionTreeRegressor()\n",
    "model_rfr = RandomForestRegressor()\n",
    "model_bgr = BaggingRegressor()\n",
    "\n",
    "#classifier\n",
    "model_dtc = DecisionTreeClassifier()\n",
    "model_rfc = RandomForestClassifier()\n",
    "model_bgc = BaggingClassifier()"
   ]
  },
  {
   "cell_type": "markdown",
   "metadata": {},
   "source": [
    "The function above is showing the train & test score of not fitted cross validated model and fitted without cross validated model.\n",
    "\n",
    "- We are expecting to have higher training score when we fit the model. But at the end the train & test score should be close to each other, which will show us the data is not overfitted. "
   ]
  },
  {
   "cell_type": "markdown",
   "metadata": {},
   "source": [
    "** Logistic Regression**"
   ]
  },
  {
   "cell_type": "code",
   "execution_count": 18,
   "metadata": {},
   "outputs": [],
   "source": [
    "model_lr = LogisticRegression(random_state=random_state)"
   ]
  },
  {
   "cell_type": "code",
   "execution_count": 19,
   "metadata": {},
   "outputs": [
    {
     "name": "stdout",
     "output_type": "stream",
     "text": [
      "Model: LogisticRegression(C=1.0, class_weight=None, dual=False, fit_intercept=True,\n",
      "          intercept_scaling=1, max_iter=100, multi_class='warn',\n",
      "          n_jobs=None, penalty='l2', random_state=1, solver='warn',\n",
      "          tol=0.0001, verbose=0, warm_start=False)\n",
      "\n",
      "CV Test Score: 0.8301587301587301\n",
      "CV Train Score: 0.8585366353607633\n",
      "Training Data Accuracy Score: 0.8788819875776398\n",
      "Test Data Accuracy Score: 0.855072463768116\n",
      "\n"
     ]
    }
   ],
   "source": [
    "score_compare(X_train,X_test,y_train,y_test,model_lr)"
   ]
  },
  {
   "cell_type": "markdown",
   "metadata": {},
   "source": [
    "- The train & test data accuracy scores are close to each other and higher than the baseline, which shows us the model can do better prediction than the baseline. "
   ]
  },
  {
   "cell_type": "code",
   "execution_count": 20,
   "metadata": {},
   "outputs": [],
   "source": [
    "y_pred_lr = model_lr.predict(X_train)"
   ]
  },
  {
   "cell_type": "code",
   "execution_count": 21,
   "metadata": {},
   "outputs": [
    {
     "data": {
      "text/plain": [
       "array([[260,  33],\n",
       "       [ 45, 306]])"
      ]
     },
     "execution_count": 21,
     "metadata": {},
     "output_type": "execute_result"
    }
   ],
   "source": [
    "confusion_matrix(y_train,y_pred_lr)"
   ]
  },
  {
   "cell_type": "markdown",
   "metadata": {},
   "source": [
    "- From the confusion matrix above we can see the false negative score. \n",
    "- For medical analysis and predictions our aim is to have the lowest false negative, because we don't want to diagnose an unhealthy patient as a healthy patient. \n",
    "- Here the false negative score is 38/644 = 0.059 "
   ]
  },
  {
   "cell_type": "code",
   "execution_count": 22,
   "metadata": {},
   "outputs": [
    {
     "name": "stdout",
     "output_type": "stream",
     "text": [
      "              precision    recall  f1-score   support\n",
      "\n",
      "         0.0       0.85      0.89      0.87       293\n",
      "         1.0       0.90      0.87      0.89       351\n",
      "\n",
      "   micro avg       0.88      0.88      0.88       644\n",
      "   macro avg       0.88      0.88      0.88       644\n",
      "weighted avg       0.88      0.88      0.88       644\n",
      "\n"
     ]
    }
   ],
   "source": [
    "print(classification_report(y_train, y_pred_lr))"
   ]
  },
  {
   "cell_type": "markdown",
   "metadata": {},
   "source": [
    "** Checking the Classifier Grid Search and Finding the Best Model **"
   ]
  },
  {
   "cell_type": "code",
   "execution_count": 23,
   "metadata": {},
   "outputs": [
    {
     "name": "stdout",
     "output_type": "stream",
     "text": [
      "Best score\n",
      "0.5169269268445271\n",
      "\n",
      "Best estimator\n",
      "{'bootstrap': 'False', 'class_weight': None, 'criterion': 'entropy', 'max_depth': 10, 'max_features': 'auto', 'max_leaf_nodes': None, 'min_impurity_decrease': 0.0, 'min_impurity_split': None, 'min_samples_leaf': 1, 'min_samples_split': 2, 'min_weight_fraction_leaf': 0.0, 'n_estimators': 80, 'n_jobs': None, 'oob_score': False, 'random_state': None, 'verbose': 0, 'warm_start': False}\n",
      "\n",
      "Test score:  0.5114782235571765\n",
      "Best score\n",
      "0.5171022629053103\n",
      "\n",
      "Best estimator\n",
      "{'base_estimator': None, 'bootstrap': 'True', 'bootstrap_features': False, 'max_features': 14, 'max_samples': 1.0, 'n_estimators': 80, 'n_jobs': None, 'oob_score': False, 'random_state': None, 'verbose': 0, 'warm_start': False}\n",
      "\n",
      "Test score:  0.4374597725809912\n",
      "Best score\n",
      "0.3604316254040902\n",
      "\n",
      "Best estimator\n",
      "{'class_weight': None, 'criterion': 'gini', 'max_depth': 5, 'max_features': 13, 'max_leaf_nodes': None, 'min_impurity_decrease': 0.0, 'min_impurity_split': None, 'min_samples_leaf': 1, 'min_samples_split': 30, 'min_weight_fraction_leaf': 0.0, 'presort': False, 'random_state': None, 'splitter': 'best'}\n",
      "\n",
      "Test score:  0.31903025101909455\n"
     ]
    }
   ],
   "source": [
    "gs_rfc = grid_search_func_tt(model_rfc, params=params_rfc, X_train=X_train, X_test=X_test, y_train=y_train, y_test=y_test)\n",
    "gs_bgc = grid_search_func_tt(model_bgc, params=params_bgc, X_train=X_train, X_test=X_test, y_train=y_train, y_test=y_test)\n",
    "gs_dtc = grid_search_func_tt(model_dtc, params=params_dtc, X_train=X_train, X_test=X_test, y_train=y_train, y_test=y_test)"
   ]
  },
  {
   "cell_type": "code",
   "execution_count": 24,
   "metadata": {},
   "outputs": [
    {
     "name": "stdout",
     "output_type": "stream",
     "text": [
      "Model: DecisionTreeClassifier(class_weight=None, criterion='gini', max_depth=5,\n",
      "            max_features=13, max_leaf_nodes=None,\n",
      "            min_impurity_decrease=0.0, min_impurity_split=None,\n",
      "            min_samples_leaf=1, min_samples_split=30,\n",
      "            min_weight_fraction_leaf=0.0, presort=False, random_state=None,\n",
      "            splitter='best')\n",
      "\n",
      "CV Test Score: 0.8010582010582011\n",
      "CV Train Score: 0.7950413685152057\n",
      "Training Data Accuracy Score: 0.8229813664596274\n",
      "Test Data Accuracy Score: 0.782608695652174\n",
      "\n"
     ]
    }
   ],
   "source": [
    "score_compare(X_train,X_test,y_train,y_test,gs_dtc.best_estimator_)"
   ]
  },
  {
   "cell_type": "markdown",
   "metadata": {},
   "source": [
    "- The test & train accuracy scores are close to each other, so there isnt any overfitting on the data.\n",
    "- CV scores are also close to each other, this shows us the model trained the data well for test data to predict correctly. "
   ]
  },
  {
   "cell_type": "code",
   "execution_count": 25,
   "metadata": {},
   "outputs": [
    {
     "name": "stdout",
     "output_type": "stream",
     "text": [
      "Model: RandomForestClassifier(bootstrap='False', class_weight=None,\n",
      "            criterion='entropy', max_depth=10, max_features='auto',\n",
      "            max_leaf_nodes=None, min_impurity_decrease=0.0,\n",
      "            min_impurity_split=None, min_samples_leaf=1,\n",
      "            min_samples_split=2, min_weight_fraction_leaf=0.0,\n",
      "            n_estimators=80, n_jobs=None, oob_score=False,\n",
      "            random_state=None, verbose=0, warm_start=False)\n",
      "\n",
      "CV Test Score: 0.8588624338624339\n",
      "CV Train Score: 0.8615535554561717\n",
      "Training Data Accuracy Score: 0.9813664596273292\n",
      "Test Data Accuracy Score: 0.8768115942028986\n",
      "\n"
     ]
    }
   ],
   "source": [
    "score_compare(X_train,X_test,y_train,y_test,gs_rfc.best_estimator_)"
   ]
  },
  {
   "cell_type": "markdown",
   "metadata": {},
   "source": [
    "- The test & train accuracy scores are again close to each other, so there isnt any overfitting on the data.\n",
    "- CV scores are not as close as dtc model. "
   ]
  },
  {
   "cell_type": "code",
   "execution_count": 26,
   "metadata": {},
   "outputs": [
    {
     "name": "stdout",
     "output_type": "stream",
     "text": [
      "Model: BaggingClassifier(base_estimator=None, bootstrap='True',\n",
      "         bootstrap_features=False, max_features=14, max_samples=1.0,\n",
      "         n_estimators=80, n_jobs=None, oob_score=False, random_state=None,\n",
      "         verbose=0, warm_start=False)\n",
      "\n",
      "CV Test Score: 0.8480158730158731\n",
      "CV Train Score: 0.8631522063208109\n",
      "Training Data Accuracy Score: 1.0\n",
      "Test Data Accuracy Score: 0.8659420289855072\n",
      "\n"
     ]
    }
   ],
   "source": [
    "score_compare(X_train,X_test,y_train,y_test,gs_bgc.best_estimator_)"
   ]
  },
  {
   "cell_type": "markdown",
   "metadata": {},
   "source": [
    "- The test & train accuracy scores are close to each other, so there isnt any overfitting on the data.\n",
    "- CV scores are also close to each other, this shows us the model trained the data well for test data to predict correctly. \n",
    "\n",
    "- The best model can be bgc or dtc, below by checking the accuracy scores, I choose the best model from the grid search"
   ]
  },
  {
   "cell_type": "code",
   "execution_count": 27,
   "metadata": {},
   "outputs": [
    {
     "name": "stdout",
     "output_type": "stream",
     "text": [
      "0.8229813664596274\n"
     ]
    }
   ],
   "source": [
    "y_pred_class = gs_dtc.best_estimator_.predict(X_train)\n",
    "print(metrics.accuracy_score(y_train, y_pred_class))"
   ]
  },
  {
   "cell_type": "code",
   "execution_count": 28,
   "metadata": {},
   "outputs": [
    {
     "name": "stdout",
     "output_type": "stream",
     "text": [
      "0.9813664596273292\n"
     ]
    }
   ],
   "source": [
    "y_pred_class = gs_rfc.best_estimator_.predict(X_train)\n",
    "print(metrics.accuracy_score(y_train, y_pred_class))"
   ]
  },
  {
   "cell_type": "code",
   "execution_count": 29,
   "metadata": {},
   "outputs": [
    {
     "name": "stdout",
     "output_type": "stream",
     "text": [
      "1.0\n"
     ]
    }
   ],
   "source": [
    "y_pred_class = gs_bgc.best_estimator_.predict(X_train)\n",
    "print(metrics.accuracy_score(y_train, y_pred_class))"
   ]
  },
  {
   "cell_type": "markdown",
   "metadata": {},
   "source": [
    "- From the accuracy scores for each model, the highest score is from **gs_bgc** model. Next I am continuing analysing the confusion matrix on this model."
   ]
  },
  {
   "cell_type": "code",
   "execution_count": 30,
   "metadata": {},
   "outputs": [],
   "source": [
    "y_pred_rfc = gs_bgc.best_estimator_.predict(X_train)"
   ]
  },
  {
   "cell_type": "code",
   "execution_count": 31,
   "metadata": {},
   "outputs": [
    {
     "name": "stdout",
     "output_type": "stream",
     "text": [
      "[[293   0]\n",
      " [  0 351]]\n"
     ]
    }
   ],
   "source": [
    "print(confusion_matrix(y_train,y_pred_rfc))"
   ]
  },
  {
   "cell_type": "code",
   "execution_count": 32,
   "metadata": {},
   "outputs": [
    {
     "data": {
      "text/plain": [
       "0.0015527950310559005"
      ]
     },
     "execution_count": 32,
     "metadata": {},
     "output_type": "execute_result"
    }
   ],
   "source": [
    "0/644"
   ]
  },
  {
   "cell_type": "markdown",
   "metadata": {},
   "source": [
    "- By using Grid Search and finding the best model our false positive rate has decreased to 1/644 = 0.001. Which shows that using Grid Search method with different models & parameters will increase our probability of correct predictions.  "
   ]
  },
  {
   "cell_type": "code",
   "execution_count": 33,
   "metadata": {},
   "outputs": [
    {
     "name": "stdout",
     "output_type": "stream",
     "text": [
      "              precision    recall  f1-score   support\n",
      "\n",
      "         0.0       1.00      1.00      1.00       293\n",
      "         1.0       1.00      1.00      1.00       351\n",
      "\n",
      "   micro avg       1.00      1.00      1.00       644\n",
      "   macro avg       1.00      1.00      1.00       644\n",
      "weighted avg       1.00      1.00      1.00       644\n",
      "\n"
     ]
    }
   ],
   "source": [
    "print(classification_report(y_train, y_pred_rfc))"
   ]
  },
  {
   "cell_type": "markdown",
   "metadata": {},
   "source": [
    "** Trying Other Models & Comparing the Accuracy Scores **"
   ]
  },
  {
   "cell_type": "code",
   "execution_count": 34,
   "metadata": {},
   "outputs": [],
   "source": [
    "from sklearn.naive_bayes import GaussianNB\n",
    "from sklearn.linear_model import LogisticRegression, SGDClassifier\n",
    "from sklearn.multiclass import OneVsRestClassifier\n",
    "from sklearn.gaussian_process import GaussianProcessClassifier\n",
    "from sklearn.gaussian_process.kernels import RBF\n",
    "from sklearn import decomposition, preprocessing, svm\n",
    "from sklearn.neural_network import MLPClassifier\n",
    "from sklearn.svm import SVC\n",
    "from sklearn.ensemble import BaggingClassifier\n",
    "from sklearn.tree import DecisionTreeClassifier\n",
    "from sklearn import metrics\n",
    "from sklearn.discriminant_analysis import QuadraticDiscriminantAnalysis, LinearDiscriminantAnalysis\n",
    "from sklearn.ensemble import RandomForestClassifier, RandomForestRegressor, AdaBoostClassifier, GradientBoostingClassifier, VotingClassifier, ExtraTreesClassifier"
   ]
  },
  {
   "cell_type": "code",
   "execution_count": 35,
   "metadata": {},
   "outputs": [],
   "source": [
    "models_names = [\"k-Nearest Neighbors\",\"Support Vector Machine\",\"Linear SVM\",\"RBF SVM\",\"Gaussian Process\",\n",
    "                \"Decision Tree\",\"Extra Trees\",\"Random Forest\",\"Gradient Boost\",\"AdaBoost\",\"Gaussian Naive Bayes\",\n",
    "                \"LDA\",\"QDA\",\"Logistic Regression\",\"SGD Classifier\",\"Multilayer Perceptron\",\"Voting Classifier\", \n",
    "                \"Bagging Classifier\"]\n",
    "\n",
    "models = [KNeighborsClassifier(n_neighbors=3),\n",
    "          SVC(random_state=random_state),\n",
    "          SVC(kernel=\"linear\",random_state=random_state),\n",
    "          SVC(kernel=\"rbf\",random_state=random_state),\n",
    "          GaussianProcessClassifier(),\n",
    "          DecisionTreeClassifier(random_state=random_state),\n",
    "          ExtraTreesClassifier(random_state=random_state),\n",
    "          RandomForestClassifier(random_state=random_state),\n",
    "          GradientBoostingClassifier(random_state=random_state),\n",
    "          AdaBoostClassifier(DecisionTreeClassifier(random_state=random_state),n_estimators=10,learning_rate=0.1,\n",
    "                             random_state=random_state),\n",
    "          GaussianNB(),\n",
    "          LinearDiscriminantAnalysis(),\n",
    "          QuadraticDiscriminantAnalysis(),\n",
    "          LogisticRegression(random_state=random_state),\n",
    "          SGDClassifier(),               \n",
    "          MLPClassifier(hidden_layer_sizes=(100,),momentum=0.9,solver='sgd',random_state=random_state),\n",
    "          VotingClassifier(estimators=[('log', LogisticRegression()), ('SVM',SVC(C=1000)), \n",
    "                                       ('MLP', MLPClassifier(hidden_layer_sizes=(100,)))], voting='hard'),\n",
    "          BaggingClassifier(KNeighborsClassifier(),random_state=random_state)]\n",
    "\n",
    "          \n",
    "\n",
    "classifiers = {\"k-Nearest Neighbors\" : KNeighborsClassifier(n_neighbors=3),\n",
    "               \"Support Vector Machine\" :  SVC(random_state=random_state),\n",
    "               \"Linear SVM\" :  SVC(kernel=\"linear\",random_state=random_state),\n",
    "               \"RBF SVM\" :  SVC(kernel=\"rbf\",random_state=random_state),\n",
    "               \"Gaussian Process\" : GaussianProcessClassifier(),\n",
    "               \"Decision Tree\" : DecisionTreeClassifier(random_state=random_state),\n",
    "               \"Extra Trees\" : ExtraTreesClassifier(random_state=random_state),\n",
    "               \"Random Forest\" : RandomForestClassifier(random_state=random_state),\n",
    "               \"Gradient Boost\" : GradientBoostingClassifier(random_state=random_state),\n",
    "               \"AdaBoost\" : AdaBoostClassifier(DecisionTreeClassifier(random_state=random_state),\n",
    "                                               n_estimators=10,random_state=random_state,learning_rate=0.1),\n",
    "               \"Gaussian Naive Bayes\" : GaussianNB(),\n",
    "               \"LDA\" : LinearDiscriminantAnalysis(),\n",
    "               \"QDA\" :  QuadraticDiscriminantAnalysis(),\n",
    "               \"Logistic Regression\" : LogisticRegression(random_state=random_state),\n",
    "               \"SGD Classifier\" : SGDClassifier(),\n",
    "               \"Multilayer Perceptron\" :  MLPClassifier(hidden_layer_sizes=(100,),momentum=0.9,solver='sgd',\n",
    "                                                        random_state=random_state),\n",
    "               \"Voting Classifier\" : VotingClassifier(estimators=[('log', LogisticRegression()), ('SVM',SVC(C=1000)),\n",
    "                                                                  ('MLP', MLPClassifier(hidden_layer_sizes=(100,)))],\n",
    "                                                      voting='hard'),\n",
    "               \"Bagging Classifier\" : BaggingClassifier(KNeighborsClassifier(),random_state=random_state)}"
   ]
  },
  {
   "cell_type": "code",
   "execution_count": 36,
   "metadata": {},
   "outputs": [],
   "source": [
    "def score_compare(X_train,X_test,y_train,y_test,model):\n",
    "    print('Model:', model)\n",
    "    print('')\n",
    "    print('CV Test Score:', cross_val_score(model, X_test, y_test, cv=5).mean())\n",
    "    print('CV Train Score:', cross_val_score(model, X_train, y_train, cv=5).mean())\n",
    "\n",
    "    model.fit(X_train, y_train)\n",
    "    print('Training Data Accuracy Score:', model.score(X_train, y_train))\n",
    "    print('Test Data Accuracy Score:', model.score(X_test, y_test))\n",
    "    print('')"
   ]
  },
  {
   "cell_type": "code",
   "execution_count": 59,
   "metadata": {},
   "outputs": [
    {
     "data": {
      "text/html": [
       "<div>\n",
       "<style scoped>\n",
       "    .dataframe tbody tr th:only-of-type {\n",
       "        vertical-align: middle;\n",
       "    }\n",
       "\n",
       "    .dataframe tbody tr th {\n",
       "        vertical-align: top;\n",
       "    }\n",
       "\n",
       "    .dataframe thead th {\n",
       "        text-align: right;\n",
       "    }\n",
       "</style>\n",
       "<table border=\"1\" class=\"dataframe\">\n",
       "  <thead>\n",
       "    <tr style=\"text-align: right;\">\n",
       "      <th></th>\n",
       "      <th>CV Train Score</th>\n",
       "      <th>CV Test Score</th>\n",
       "      <th>Training Data Accuracy Score</th>\n",
       "      <th>Testing Data Accuracy Score</th>\n",
       "      <th>Train-Test Difference</th>\n",
       "    </tr>\n",
       "  </thead>\n",
       "  <tbody>\n",
       "    <tr>\n",
       "      <th>AdaBoost</th>\n",
       "      <td>0.779284</td>\n",
       "      <td>0.793519</td>\n",
       "      <td>1.000000</td>\n",
       "      <td>0.811594</td>\n",
       "      <td>0.188406</td>\n",
       "    </tr>\n",
       "    <tr>\n",
       "      <th>Decision Tree</th>\n",
       "      <td>0.782360</td>\n",
       "      <td>0.797222</td>\n",
       "      <td>1.000000</td>\n",
       "      <td>0.818841</td>\n",
       "      <td>0.181159</td>\n",
       "    </tr>\n",
       "    <tr>\n",
       "      <th>Gaussian Process</th>\n",
       "      <td>0.830569</td>\n",
       "      <td>0.815476</td>\n",
       "      <td>0.990683</td>\n",
       "      <td>0.851449</td>\n",
       "      <td>0.139234</td>\n",
       "    </tr>\n",
       "    <tr>\n",
       "      <th>Random Forest</th>\n",
       "      <td>0.836831</td>\n",
       "      <td>0.832804</td>\n",
       "      <td>0.992236</td>\n",
       "      <td>0.862319</td>\n",
       "      <td>0.129917</td>\n",
       "    </tr>\n",
       "    <tr>\n",
       "      <th>Extra Trees</th>\n",
       "      <td>0.832108</td>\n",
       "      <td>0.854894</td>\n",
       "      <td>1.000000</td>\n",
       "      <td>0.880435</td>\n",
       "      <td>0.119565</td>\n",
       "    </tr>\n",
       "    <tr>\n",
       "      <th>Voting Classifier</th>\n",
       "      <td>0.852347</td>\n",
       "      <td>0.823016</td>\n",
       "      <td>0.968944</td>\n",
       "      <td>0.851449</td>\n",
       "      <td>0.117495</td>\n",
       "    </tr>\n",
       "    <tr>\n",
       "      <th>Gradient Boost</th>\n",
       "      <td>0.861686</td>\n",
       "      <td>0.848148</td>\n",
       "      <td>0.956522</td>\n",
       "      <td>0.855072</td>\n",
       "      <td>0.101449</td>\n",
       "    </tr>\n",
       "    <tr>\n",
       "      <th>Support Vector Machine</th>\n",
       "      <td>0.873981</td>\n",
       "      <td>0.851984</td>\n",
       "      <td>0.930124</td>\n",
       "      <td>0.858696</td>\n",
       "      <td>0.071429</td>\n",
       "    </tr>\n",
       "    <tr>\n",
       "      <th>RBF SVM</th>\n",
       "      <td>0.873981</td>\n",
       "      <td>0.851984</td>\n",
       "      <td>0.930124</td>\n",
       "      <td>0.858696</td>\n",
       "      <td>0.071429</td>\n",
       "    </tr>\n",
       "    <tr>\n",
       "      <th>k-Nearest Neighbors</th>\n",
       "      <td>0.836794</td>\n",
       "      <td>0.818915</td>\n",
       "      <td>0.909938</td>\n",
       "      <td>0.862319</td>\n",
       "      <td>0.047619</td>\n",
       "    </tr>\n",
       "    <tr>\n",
       "      <th>Logistic Regression</th>\n",
       "      <td>0.858537</td>\n",
       "      <td>0.830159</td>\n",
       "      <td>0.878882</td>\n",
       "      <td>0.855072</td>\n",
       "      <td>0.023810</td>\n",
       "    </tr>\n",
       "    <tr>\n",
       "      <th>Linear SVM</th>\n",
       "      <td>0.863188</td>\n",
       "      <td>0.811905</td>\n",
       "      <td>0.878882</td>\n",
       "      <td>0.858696</td>\n",
       "      <td>0.020186</td>\n",
       "    </tr>\n",
       "    <tr>\n",
       "      <th>Multilayer Perceptron</th>\n",
       "      <td>0.856938</td>\n",
       "      <td>0.851852</td>\n",
       "      <td>0.881988</td>\n",
       "      <td>0.862319</td>\n",
       "      <td>0.019669</td>\n",
       "    </tr>\n",
       "    <tr>\n",
       "      <th>LDA</th>\n",
       "      <td>0.852359</td>\n",
       "      <td>0.815873</td>\n",
       "      <td>0.872671</td>\n",
       "      <td>0.855072</td>\n",
       "      <td>0.017598</td>\n",
       "    </tr>\n",
       "    <tr>\n",
       "      <th>Bagging Classifier</th>\n",
       "      <td>0.850725</td>\n",
       "      <td>0.844577</td>\n",
       "      <td>0.894410</td>\n",
       "      <td>0.876812</td>\n",
       "      <td>0.017598</td>\n",
       "    </tr>\n",
       "    <tr>\n",
       "      <th>SGD Classifier</th>\n",
       "      <td>0.813382</td>\n",
       "      <td>0.808201</td>\n",
       "      <td>0.846273</td>\n",
       "      <td>0.851449</td>\n",
       "      <td>-0.005176</td>\n",
       "    </tr>\n",
       "    <tr>\n",
       "      <th>QDA</th>\n",
       "      <td>0.660057</td>\n",
       "      <td>0.687566</td>\n",
       "      <td>0.560559</td>\n",
       "      <td>0.586957</td>\n",
       "      <td>-0.026398</td>\n",
       "    </tr>\n",
       "    <tr>\n",
       "      <th>Gaussian Naive Bayes</th>\n",
       "      <td>0.787145</td>\n",
       "      <td>0.805159</td>\n",
       "      <td>0.784161</td>\n",
       "      <td>0.811594</td>\n",
       "      <td>-0.027433</td>\n",
       "    </tr>\n",
       "  </tbody>\n",
       "</table>\n",
       "</div>"
      ],
      "text/plain": [
       "                        CV Train Score  CV Test Score  \\\n",
       "AdaBoost                      0.779284       0.793519   \n",
       "Decision Tree                 0.782360       0.797222   \n",
       "Gaussian Process              0.830569       0.815476   \n",
       "Random Forest                 0.836831       0.832804   \n",
       "Extra Trees                   0.832108       0.854894   \n",
       "Voting Classifier             0.852347       0.823016   \n",
       "Gradient Boost                0.861686       0.848148   \n",
       "Support Vector Machine        0.873981       0.851984   \n",
       "RBF SVM                       0.873981       0.851984   \n",
       "k-Nearest Neighbors           0.836794       0.818915   \n",
       "Logistic Regression           0.858537       0.830159   \n",
       "Linear SVM                    0.863188       0.811905   \n",
       "Multilayer Perceptron         0.856938       0.851852   \n",
       "LDA                           0.852359       0.815873   \n",
       "Bagging Classifier            0.850725       0.844577   \n",
       "SGD Classifier                0.813382       0.808201   \n",
       "QDA                           0.660057       0.687566   \n",
       "Gaussian Naive Bayes          0.787145       0.805159   \n",
       "\n",
       "                        Training Data Accuracy Score  \\\n",
       "AdaBoost                                    1.000000   \n",
       "Decision Tree                               1.000000   \n",
       "Gaussian Process                            0.990683   \n",
       "Random Forest                               0.992236   \n",
       "Extra Trees                                 1.000000   \n",
       "Voting Classifier                           0.968944   \n",
       "Gradient Boost                              0.956522   \n",
       "Support Vector Machine                      0.930124   \n",
       "RBF SVM                                     0.930124   \n",
       "k-Nearest Neighbors                         0.909938   \n",
       "Logistic Regression                         0.878882   \n",
       "Linear SVM                                  0.878882   \n",
       "Multilayer Perceptron                       0.881988   \n",
       "LDA                                         0.872671   \n",
       "Bagging Classifier                          0.894410   \n",
       "SGD Classifier                              0.846273   \n",
       "QDA                                         0.560559   \n",
       "Gaussian Naive Bayes                        0.784161   \n",
       "\n",
       "                        Testing Data Accuracy Score  Train-Test Difference  \n",
       "AdaBoost                                   0.811594               0.188406  \n",
       "Decision Tree                              0.818841               0.181159  \n",
       "Gaussian Process                           0.851449               0.139234  \n",
       "Random Forest                              0.862319               0.129917  \n",
       "Extra Trees                                0.880435               0.119565  \n",
       "Voting Classifier                          0.851449               0.117495  \n",
       "Gradient Boost                             0.855072               0.101449  \n",
       "Support Vector Machine                     0.858696               0.071429  \n",
       "RBF SVM                                    0.858696               0.071429  \n",
       "k-Nearest Neighbors                        0.862319               0.047619  \n",
       "Logistic Regression                        0.855072               0.023810  \n",
       "Linear SVM                                 0.858696               0.020186  \n",
       "Multilayer Perceptron                      0.862319               0.019669  \n",
       "LDA                                        0.855072               0.017598  \n",
       "Bagging Classifier                         0.876812               0.017598  \n",
       "SGD Classifier                             0.851449              -0.005176  \n",
       "QDA                                        0.586957              -0.026398  \n",
       "Gaussian Naive Bayes                       0.811594              -0.027433  "
      ]
     },
     "execution_count": 59,
     "metadata": {},
     "output_type": "execute_result"
    }
   ],
   "source": [
    "cv_train = []\n",
    "cv_test = []\n",
    "train = []\n",
    "test = []\n",
    "for model in models:\n",
    "    cv_test.append(cross_val_score(model, X_test, y_test, cv=5).mean())\n",
    "    cv_train.append(cross_val_score(model, X_train, y_train, cv=5).mean())\n",
    "    model.fit(X_train,y_train)\n",
    "    train.append(model.score(X_train, y_train))\n",
    "    test.append(model.score(X_test, y_test))\n",
    "    \n",
    "scores_df = pd.DataFrame(cv_train, index=models_names)   \n",
    "scores_df.columns=['CV Train Score']\n",
    "scores_df['CV Test Score'] = cv_test\n",
    "scores_df['Training Data Accuracy Score'] = train\n",
    "scores_df['Testing Data Accuracy Score'] = test\n",
    "scores_df['Train-Test Difference'] = scores_df['Training Data Accuracy Score'] - scores_df['Testing Data Accuracy Score']\n",
    "scores_df.sort_values('Train-Test Difference', ascending=False)"
   ]
  },
  {
   "cell_type": "code",
   "execution_count": 94,
   "metadata": {},
   "outputs": [
    {
     "data": {
      "image/png": "[encoded data removed]",
      "text/plain": [
       "<Figure size 864x1080 with 1 Axes>"
      ]
     },
     "metadata": {
      "image/png": {
       "height": 875,
       "width": 890
      }
     },
     "output_type": "display_data"
    }
   ],
   "source": [
    "fig = plt.figure(figsize=(12,15))\n",
    "index = models_names\n",
    "bar_width = 0.35\n",
    "y_pos = np.arange(len(index))\n",
    "\n",
    "plt.barh(y_pos, scores_df['CV Train Score'], bar_width, align='center', alpha=0.8, color=['green'])\n",
    "plt.yticks(y_pos, index)\n",
    "plt.xlabel('CV Train Score')\n",
    "plt.title('CV Train Score Comparison')\n",
    " \n",
    "plt.show()"
   ]
  },
  {
   "cell_type": "markdown",
   "metadata": {},
   "source": [
    "- Above I ran many different models to see the prediction and the score differences between different models. Here the scores are showing us if the model is training the data well. If it does than the test scores will be close to the training score. If not the test and train scores will have a big difference.  \n",
    "- Decision Tree, Extra Trees and ADA Boost Classifier models gives us %100 accuracy score on the train data. But their test data is approximately 78-83%. \n",
    "- Overall the training scores are very high as we expected, and most of the test data is close to the train data. The most difference between these scores are in ADA Boost, Decision Tree, Extra Trees, GaussianProcessClassifier and RandomForestClassifier, which shows us there is overfitting on the data for those models."
   ]
  },
  {
   "cell_type": "code",
   "execution_count": 61,
   "metadata": {},
   "outputs": [
    {
     "data": {
      "text/html": [
       "<div>\n",
       "<style scoped>\n",
       "    .dataframe tbody tr th:only-of-type {\n",
       "        vertical-align: middle;\n",
       "    }\n",
       "\n",
       "    .dataframe tbody tr th {\n",
       "        vertical-align: top;\n",
       "    }\n",
       "\n",
       "    .dataframe thead th {\n",
       "        text-align: right;\n",
       "    }\n",
       "</style>\n",
       "<table border=\"1\" class=\"dataframe\">\n",
       "  <thead>\n",
       "    <tr style=\"text-align: right;\">\n",
       "      <th></th>\n",
       "      <th>AccuracyScore</th>\n",
       "    </tr>\n",
       "  </thead>\n",
       "  <tbody>\n",
       "    <tr>\n",
       "      <th>Extra Trees</th>\n",
       "      <td>0.880435</td>\n",
       "    </tr>\n",
       "    <tr>\n",
       "      <th>Bagging Classifier</th>\n",
       "      <td>0.876812</td>\n",
       "    </tr>\n",
       "    <tr>\n",
       "      <th>Multilayer Perceptron</th>\n",
       "      <td>0.862319</td>\n",
       "    </tr>\n",
       "    <tr>\n",
       "      <th>Random Forest</th>\n",
       "      <td>0.862319</td>\n",
       "    </tr>\n",
       "    <tr>\n",
       "      <th>k-Nearest Neighbors</th>\n",
       "      <td>0.862319</td>\n",
       "    </tr>\n",
       "    <tr>\n",
       "      <th>RBF SVM</th>\n",
       "      <td>0.858696</td>\n",
       "    </tr>\n",
       "    <tr>\n",
       "      <th>Support Vector Machine</th>\n",
       "      <td>0.858696</td>\n",
       "    </tr>\n",
       "    <tr>\n",
       "      <th>Linear SVM</th>\n",
       "      <td>0.858696</td>\n",
       "    </tr>\n",
       "    <tr>\n",
       "      <th>Voting Classifier</th>\n",
       "      <td>0.858696</td>\n",
       "    </tr>\n",
       "    <tr>\n",
       "      <th>Gradient Boost</th>\n",
       "      <td>0.855072</td>\n",
       "    </tr>\n",
       "    <tr>\n",
       "      <th>LDA</th>\n",
       "      <td>0.855072</td>\n",
       "    </tr>\n",
       "    <tr>\n",
       "      <th>Logistic Regression</th>\n",
       "      <td>0.855072</td>\n",
       "    </tr>\n",
       "    <tr>\n",
       "      <th>Gaussian Process</th>\n",
       "      <td>0.851449</td>\n",
       "    </tr>\n",
       "    <tr>\n",
       "      <th>SGD Classifier</th>\n",
       "      <td>0.826087</td>\n",
       "    </tr>\n",
       "    <tr>\n",
       "      <th>Decision Tree</th>\n",
       "      <td>0.818841</td>\n",
       "    </tr>\n",
       "    <tr>\n",
       "      <th>Gaussian Naive Bayes</th>\n",
       "      <td>0.811594</td>\n",
       "    </tr>\n",
       "    <tr>\n",
       "      <th>AdaBoost</th>\n",
       "      <td>0.811594</td>\n",
       "    </tr>\n",
       "    <tr>\n",
       "      <th>QDA</th>\n",
       "      <td>0.586957</td>\n",
       "    </tr>\n",
       "  </tbody>\n",
       "</table>\n",
       "</div>"
      ],
      "text/plain": [
       "                        AccuracyScore\n",
       "Extra Trees                  0.880435\n",
       "Bagging Classifier           0.876812\n",
       "Multilayer Perceptron        0.862319\n",
       "Random Forest                0.862319\n",
       "k-Nearest Neighbors          0.862319\n",
       "RBF SVM                      0.858696\n",
       "Support Vector Machine       0.858696\n",
       "Linear SVM                   0.858696\n",
       "Voting Classifier            0.858696\n",
       "Gradient Boost               0.855072\n",
       "LDA                          0.855072\n",
       "Logistic Regression          0.855072\n",
       "Gaussian Process             0.851449\n",
       "SGD Classifier               0.826087\n",
       "Decision Tree                0.818841\n",
       "Gaussian Naive Bayes         0.811594\n",
       "AdaBoost                     0.811594\n",
       "QDA                          0.586957"
      ]
     },
     "execution_count": 61,
     "metadata": {},
     "output_type": "execute_result"
    }
   ],
   "source": [
    "df_copy=[]\n",
    "for model in models:\n",
    "    model.fit(X_train,y_train)\n",
    "    pred_test = model.predict(X_test)\n",
    "    df_copy.append(metrics.accuracy_score(pred_test, y_test))\n",
    "    \n",
    "models_df = pd.DataFrame(df_copy, index=models_names)   \n",
    "models_df.columns=['AccuracyScore']\n",
    "models_df.sort_values('AccuracyScore',ascending=False)"
   ]
  },
  {
   "cell_type": "code",
   "execution_count": 95,
   "metadata": {},
   "outputs": [
    {
     "data": {
      "image/png": "[encoded data removed]",
      "text/plain": [
       "<Figure size 864x1080 with 1 Axes>"
      ]
     },
     "metadata": {
      "image/png": {
       "height": 875,
       "width": 890
      }
     },
     "output_type": "display_data"
    }
   ],
   "source": [
    "fig = plt.figure(figsize=(12,15))\n",
    "index = models_names\n",
    "bar_width = 0.35\n",
    "y_pos = np.arange(len(index))\n",
    "\n",
    "plt.barh(y_pos, models_df.AccuracyScore, bar_width, align='center', alpha=0.8, color=['green'])\n",
    "plt.yticks(y_pos, index)\n",
    "plt.xlabel('Accuracy Score')\n",
    "plt.title('Accuracy Score Comparison')\n",
    " \n",
    "plt.show();"
   ]
  },
  {
   "cell_type": "code",
   "execution_count": 101,
   "metadata": {},
   "outputs": [
    {
     "data": {
      "image/png": "[encoded data removed]",
      "text/plain": [
       "<Figure size 864x1080 with 1 Axes>"
      ]
     },
     "metadata": {
      "image/png": {
       "height": 965,
       "width": 785
      }
     },
     "output_type": "display_data"
    }
   ],
   "source": [
    "fig = plt.figure(figsize=(12,15))\n",
    "index = models_names\n",
    "bar_width = 0.15\n",
    "opacity = 0.8\n",
    "y_pos = np.arange(len(index))\n",
    "\n",
    "plt.bar(index, models_df.AccuracyScore, bar_width, alpha=opacity, align='center', color=['green'])\n",
    "plt.xticks(y_pos, index, rotation = 50)\n",
    "plt.xlabel('Accuracy Score')\n",
    "plt.title('Accuracy Score Comparison')\n",
    " \n",
    "plt.show();"
   ]
  },
  {
   "cell_type": "markdown",
   "metadata": {},
   "source": [
    "- From the modelling above the best models that are giving the best prediction are ** Bagging Classifier, RBF SVM, Multilayer Perceptron, Support Vector Machine, Gradient Boost, Logistic Regression **"
   ]
  },
  {
   "cell_type": "markdown",
   "metadata": {},
   "source": [
    "### Improving the Modelling & Accuracy Score"
   ]
  },
  {
   "cell_type": "markdown",
   "metadata": {},
   "source": [
    "** How to Have a Better Prediction & Increase the Accuracy Score **"
   ]
  },
  {
   "cell_type": "markdown",
   "metadata": {},
   "source": [
    "1. Check the correlation\n",
    "    - See the relationship between the pred_attribute and other columns \n",
    "    - Pick the highest 5 scores, which are the most related columns to our prediction. \n",
    "2. Do the modelling in GridSearch\n",
    "    - Check the feature importance and pick the highest 5 scores. Again, this will give us the most related five columns to our prediction. \n",
    "3. Model the new data frame with most related features & compare the scores"
   ]
  },
  {
   "cell_type": "markdown",
   "metadata": {},
   "source": [
    "** Finding the Most Related Columns ** "
   ]
  },
  {
   "cell_type": "code",
   "execution_count": 39,
   "metadata": {},
   "outputs": [
    {
     "data": {
      "text/html": [
       "<div>\n",
       "<style scoped>\n",
       "    .dataframe tbody tr th:only-of-type {\n",
       "        vertical-align: middle;\n",
       "    }\n",
       "\n",
       "    .dataframe tbody tr th {\n",
       "        vertical-align: top;\n",
       "    }\n",
       "\n",
       "    .dataframe thead th {\n",
       "        text-align: right;\n",
       "    }\n",
       "</style>\n",
       "<table border=\"1\" class=\"dataframe\">\n",
       "  <thead>\n",
       "    <tr style=\"text-align: right;\">\n",
       "      <th></th>\n",
       "      <th>subject_id</th>\n",
       "      <th>age</th>\n",
       "      <th>sex</th>\n",
       "      <th>cp</th>\n",
       "      <th>trestbps</th>\n",
       "      <th>chol</th>\n",
       "      <th>fbs</th>\n",
       "      <th>restecg</th>\n",
       "      <th>thalach</th>\n",
       "      <th>exang</th>\n",
       "      <th>oldpeak</th>\n",
       "      <th>slop</th>\n",
       "      <th>ca</th>\n",
       "      <th>thal</th>\n",
       "      <th>pred_attribute</th>\n",
       "      <th>origin</th>\n",
       "    </tr>\n",
       "  </thead>\n",
       "  <tbody>\n",
       "    <tr>\n",
       "      <th>0</th>\n",
       "      <td>0</td>\n",
       "      <td>41.0</td>\n",
       "      <td>0.0</td>\n",
       "      <td>2.0</td>\n",
       "      <td>130.0</td>\n",
       "      <td>204.0</td>\n",
       "      <td>0.0</td>\n",
       "      <td>2.0</td>\n",
       "      <td>172.0</td>\n",
       "      <td>0.0</td>\n",
       "      <td>1.4</td>\n",
       "      <td>1.0</td>\n",
       "      <td>0.0</td>\n",
       "      <td>3.0</td>\n",
       "      <td>0.0</td>\n",
       "      <td>Cleveland</td>\n",
       "    </tr>\n",
       "    <tr>\n",
       "      <th>1</th>\n",
       "      <td>1</td>\n",
       "      <td>57.0</td>\n",
       "      <td>0.0</td>\n",
       "      <td>4.0</td>\n",
       "      <td>120.0</td>\n",
       "      <td>354.0</td>\n",
       "      <td>0.0</td>\n",
       "      <td>0.0</td>\n",
       "      <td>163.0</td>\n",
       "      <td>1.0</td>\n",
       "      <td>0.6</td>\n",
       "      <td>1.0</td>\n",
       "      <td>0.0</td>\n",
       "      <td>3.0</td>\n",
       "      <td>0.0</td>\n",
       "      <td>Cleveland</td>\n",
       "    </tr>\n",
       "    <tr>\n",
       "      <th>2</th>\n",
       "      <td>2</td>\n",
       "      <td>56.0</td>\n",
       "      <td>0.0</td>\n",
       "      <td>2.0</td>\n",
       "      <td>140.0</td>\n",
       "      <td>294.0</td>\n",
       "      <td>0.0</td>\n",
       "      <td>2.0</td>\n",
       "      <td>153.0</td>\n",
       "      <td>0.0</td>\n",
       "      <td>1.3</td>\n",
       "      <td>2.0</td>\n",
       "      <td>0.0</td>\n",
       "      <td>3.0</td>\n",
       "      <td>0.0</td>\n",
       "      <td>Cleveland</td>\n",
       "    </tr>\n",
       "    <tr>\n",
       "      <th>3</th>\n",
       "      <td>3</td>\n",
       "      <td>48.0</td>\n",
       "      <td>0.0</td>\n",
       "      <td>3.0</td>\n",
       "      <td>130.0</td>\n",
       "      <td>275.0</td>\n",
       "      <td>0.0</td>\n",
       "      <td>0.0</td>\n",
       "      <td>139.0</td>\n",
       "      <td>0.0</td>\n",
       "      <td>0.2</td>\n",
       "      <td>1.0</td>\n",
       "      <td>0.0</td>\n",
       "      <td>3.0</td>\n",
       "      <td>0.0</td>\n",
       "      <td>Cleveland</td>\n",
       "    </tr>\n",
       "    <tr>\n",
       "      <th>4</th>\n",
       "      <td>4</td>\n",
       "      <td>58.0</td>\n",
       "      <td>0.0</td>\n",
       "      <td>1.0</td>\n",
       "      <td>150.0</td>\n",
       "      <td>283.0</td>\n",
       "      <td>1.0</td>\n",
       "      <td>2.0</td>\n",
       "      <td>162.0</td>\n",
       "      <td>0.0</td>\n",
       "      <td>1.0</td>\n",
       "      <td>1.0</td>\n",
       "      <td>0.0</td>\n",
       "      <td>3.0</td>\n",
       "      <td>0.0</td>\n",
       "      <td>Cleveland</td>\n",
       "    </tr>\n",
       "  </tbody>\n",
       "</table>\n",
       "</div>"
      ],
      "text/plain": [
       "   subject_id   age  sex   cp  trestbps   chol  fbs  restecg  thalach  exang  \\\n",
       "0           0  41.0  0.0  2.0     130.0  204.0  0.0      2.0    172.0    0.0   \n",
       "1           1  57.0  0.0  4.0     120.0  354.0  0.0      0.0    163.0    1.0   \n",
       "2           2  56.0  0.0  2.0     140.0  294.0  0.0      2.0    153.0    0.0   \n",
       "3           3  48.0  0.0  3.0     130.0  275.0  0.0      0.0    139.0    0.0   \n",
       "4           4  58.0  0.0  1.0     150.0  283.0  1.0      2.0    162.0    0.0   \n",
       "\n",
       "   oldpeak  slop   ca  thal  pred_attribute     origin  \n",
       "0      1.4   1.0  0.0   3.0             0.0  Cleveland  \n",
       "1      0.6   1.0  0.0   3.0             0.0  Cleveland  \n",
       "2      1.3   2.0  0.0   3.0             0.0  Cleveland  \n",
       "3      0.2   1.0  0.0   3.0             0.0  Cleveland  \n",
       "4      1.0   1.0  0.0   3.0             0.0  Cleveland  "
      ]
     },
     "execution_count": 39,
     "metadata": {},
     "output_type": "execute_result"
    }
   ],
   "source": [
    "df_update = df.copy()\n",
    "df_update['pred_attribute'].replace(to_replace = [1,2,3,4], value = [1,1,1,1], inplace = True)\n",
    "df_update.head()"
   ]
  },
  {
   "cell_type": "code",
   "execution_count": 40,
   "metadata": {
    "scrolled": false
   },
   "outputs": [
    {
     "data": {
      "text/html": [
       "<div>\n",
       "<style scoped>\n",
       "    .dataframe tbody tr th:only-of-type {\n",
       "        vertical-align: middle;\n",
       "    }\n",
       "\n",
       "    .dataframe tbody tr th {\n",
       "        vertical-align: top;\n",
       "    }\n",
       "\n",
       "    .dataframe thead th {\n",
       "        text-align: right;\n",
       "    }\n",
       "</style>\n",
       "<table border=\"1\" class=\"dataframe\">\n",
       "  <thead>\n",
       "    <tr style=\"text-align: right;\">\n",
       "      <th></th>\n",
       "      <th>pred_attribute</th>\n",
       "    </tr>\n",
       "  </thead>\n",
       "  <tbody>\n",
       "    <tr>\n",
       "      <th>pred_attribute</th>\n",
       "      <td>1.000000</td>\n",
       "    </tr>\n",
       "    <tr>\n",
       "      <th>subject_id</th>\n",
       "      <td>0.751197</td>\n",
       "    </tr>\n",
       "    <tr>\n",
       "      <th>cp</th>\n",
       "      <td>0.471712</td>\n",
       "    </tr>\n",
       "    <tr>\n",
       "      <th>exang</th>\n",
       "      <td>0.437696</td>\n",
       "    </tr>\n",
       "    <tr>\n",
       "      <th>slop</th>\n",
       "      <td>0.421432</td>\n",
       "    </tr>\n",
       "    <tr>\n",
       "      <th>oldpeak</th>\n",
       "      <td>0.400848</td>\n",
       "    </tr>\n",
       "    <tr>\n",
       "      <th>thal</th>\n",
       "      <td>0.355318</td>\n",
       "    </tr>\n",
       "    <tr>\n",
       "      <th>sex</th>\n",
       "      <td>0.307284</td>\n",
       "    </tr>\n",
       "    <tr>\n",
       "      <th>age</th>\n",
       "      <td>0.282700</td>\n",
       "    </tr>\n",
       "    <tr>\n",
       "      <th>ca</th>\n",
       "      <td>0.175130</td>\n",
       "    </tr>\n",
       "    <tr>\n",
       "      <th>trestbps</th>\n",
       "      <td>0.120748</td>\n",
       "    </tr>\n",
       "    <tr>\n",
       "      <th>fbs</th>\n",
       "      <td>0.093680</td>\n",
       "    </tr>\n",
       "    <tr>\n",
       "      <th>restecg</th>\n",
       "      <td>0.047835</td>\n",
       "    </tr>\n",
       "    <tr>\n",
       "      <th>chol</th>\n",
       "      <td>-0.187599</td>\n",
       "    </tr>\n",
       "    <tr>\n",
       "      <th>thalach</th>\n",
       "      <td>-0.380533</td>\n",
       "    </tr>\n",
       "  </tbody>\n",
       "</table>\n",
       "</div>"
      ],
      "text/plain": [
       "                pred_attribute\n",
       "pred_attribute        1.000000\n",
       "subject_id            0.751197\n",
       "cp                    0.471712\n",
       "exang                 0.437696\n",
       "slop                  0.421432\n",
       "oldpeak               0.400848\n",
       "thal                  0.355318\n",
       "sex                   0.307284\n",
       "age                   0.282700\n",
       "ca                    0.175130\n",
       "trestbps              0.120748\n",
       "fbs                   0.093680\n",
       "restecg               0.047835\n",
       "chol                 -0.187599\n",
       "thalach              -0.380533"
      ]
     },
     "execution_count": 40,
     "metadata": {},
     "output_type": "execute_result"
    }
   ],
   "source": [
    "df_update.corr()[['pred_attribute']].sort_values('pred_attribute',ascending=False)"
   ]
  },
  {
   "cell_type": "code",
   "execution_count": 41,
   "metadata": {},
   "outputs": [
    {
     "data": {
      "image/png": "[encoded data removed]",
      "text/plain": [
       "<Figure size 432x288 with 2 Axes>"
      ]
     },
     "metadata": {
      "image/png": {
       "height": 311,
       "width": 454
      }
     },
     "output_type": "display_data"
    }
   ],
   "source": [
    "sns.heatmap(df.corr());"
   ]
  },
  {
   "cell_type": "markdown",
   "metadata": {},
   "source": [
    "- The graph above shows us the relationship between each model. Where we can see there isn't any high correlation between variables. The best correlated values with pred_attribute are **olpeak, cp, exang, slop, thalach(negative relationship)**. "
   ]
  },
  {
   "cell_type": "code",
   "execution_count": 42,
   "metadata": {},
   "outputs": [
    {
     "name": "stdout",
     "output_type": "stream",
     "text": [
      "RFC: cp_4.0                0.086111\n",
      "thalach               0.083298\n",
      "oldpeak               0.080345\n",
      "chol                  0.067514\n",
      "age                   0.066221\n",
      "exang_1.0             0.064922\n",
      "thal_7.0              0.060616\n",
      "trestbps              0.058301\n",
      "exang_0.0             0.057401\n",
      "ca_0.0                0.045557\n",
      "slop_2.0              0.044217\n",
      "cp_2.0                0.036444\n",
      "origin_Switzerland    0.033468\n",
      "thal_3.0              0.025951\n",
      "sex_1.0               0.025886\n",
      "ca_2.0                0.020506\n",
      "ca_1.0                0.018461\n",
      "origin_Hungarian      0.017514\n",
      "cp_3.0                0.016361\n",
      "slop_1.0              0.014891\n",
      "restecg_0.0           0.012019\n",
      "origin_LongBeach      0.010350\n",
      "fbs_1.0               0.009772\n",
      "restecg_1.0           0.009438\n",
      "restecg_2.0           0.008597\n",
      "fbs_0.0               0.008546\n",
      "thal_6.0              0.006788\n",
      "slop_3.0              0.005536\n",
      "ca_3.0                0.003360\n",
      "ca_9.0                0.001610\n",
      "dtype: float64\n"
     ]
    }
   ],
   "source": [
    "gs_rfc.best_estimator_.fit(Xs, y)\n",
    "importance_rfc = pd.Series(gs_rfc.best_estimator_.feature_importances_, index=Xs.columns).sort_values(ascending=False)\n",
    "print('RFC:',importance_rfc)"
   ]
  },
  {
   "cell_type": "markdown",
   "metadata": {},
   "source": [
    "- By checking the feature importance for rfc; **cp, exang, thal, thalach, oldpeak, chol, slop** are the most related columns."
   ]
  },
  {
   "cell_type": "code",
   "execution_count": 43,
   "metadata": {},
   "outputs": [
    {
     "name": "stdout",
     "output_type": "stream",
     "text": [
      "DTC: slop_2.0              0.299067\n",
      "exang_1.0             0.165576\n",
      "ca_0.0                0.132818\n",
      "thal_7.0              0.124670\n",
      "cp_4.0                0.080424\n",
      "exang_0.0             0.072830\n",
      "chol                  0.040911\n",
      "oldpeak               0.034423\n",
      "origin_Switzerland    0.019498\n",
      "origin_Hungarian      0.012188\n",
      "age                   0.006319\n",
      "cp_3.0                0.005767\n",
      "ca_1.0                0.003220\n",
      "fbs_1.0               0.001743\n",
      "trestbps              0.000548\n",
      "ca_3.0                0.000000\n",
      "slop_3.0              0.000000\n",
      "thalach               0.000000\n",
      "thal_6.0              0.000000\n",
      "sex_1.0               0.000000\n",
      "cp_2.0                0.000000\n",
      "slop_1.0              0.000000\n",
      "ca_9.0                0.000000\n",
      "fbs_0.0               0.000000\n",
      "ca_2.0                0.000000\n",
      "restecg_0.0           0.000000\n",
      "restecg_1.0           0.000000\n",
      "restecg_2.0           0.000000\n",
      "origin_LongBeach      0.000000\n",
      "thal_3.0              0.000000\n",
      "dtype: float64\n"
     ]
    }
   ],
   "source": [
    "gs_dtc.best_estimator_.fit(Xs, y)\n",
    "importance_dtc = pd.Series(gs_dtc.best_estimator_.feature_importances_, index=Xs.columns).sort_values(ascending=False)\n",
    "print('DTC:',importance_dtc)"
   ]
  },
  {
   "cell_type": "markdown",
   "metadata": {},
   "source": [
    "- By checking the feature importance for dtc; **slop, cp, ca, thal, chol, oldpeak** are the most related columns."
   ]
  },
  {
   "cell_type": "markdown",
   "metadata": {},
   "source": [
    "- Above I compared the features for each best model from grid search and checked the relationship by looking at the correlation. The highest importance is the higher relationship between the pred_attribute. As a result **oldpeak, exang, slop, cp, thalach, chol** values are the ones that are most related to y (pred_attribute). Next step I am using these columns as my X value to predict the heart disease.  \n",
    "\n"
   ]
  },
  {
   "cell_type": "markdown",
   "metadata": {},
   "source": [
    "** Modelling with Most Related Columns ** "
   ]
  },
  {
   "cell_type": "markdown",
   "metadata": {},
   "source": [
    "** Defining X & y **"
   ]
  },
  {
   "cell_type": "code",
   "execution_count": 44,
   "metadata": {},
   "outputs": [],
   "source": [
    "related_df = df[['oldpeak', 'exang', 'slop', 'cp', 'thalach', 'chol', 'pred_attribute']]\n",
    "X = related_df[['oldpeak', 'exang', 'slop', 'cp', 'thalach', 'chol']]\n",
    "y = related_df[['pred_attribute']]\n",
    "\n",
    "y['pred_attribute'].replace(to_replace = [1,2,3,4], value = [1,1,1,1], inplace = True)\n",
    "y = y.pred_attribute\n",
    "\n",
    "#Dummy the categorical values\n",
    "X_dum = pd.get_dummies(X, columns = ['exang','slop','cp'], drop_first=True)\n",
    "\n",
    "#Standardize the X\n",
    "Xs = scaler.fit_transform(X_dum)\n",
    "Xs = pd.DataFrame(Xs, columns = X_dum.columns)\n",
    "\n",
    "#Train&Test Split\n",
    "X_train, X_test, y_train, y_test = train_test_split(Xs, y, test_size=0.3, random_state=random_state)"
   ]
  },
  {
   "cell_type": "markdown",
   "metadata": {},
   "source": [
    "** Comparing the CV & Fitted Train/Test Scores **"
   ]
  },
  {
   "cell_type": "code",
   "execution_count": 45,
   "metadata": {},
   "outputs": [
    {
     "data": {
      "text/html": [
       "<div>\n",
       "<style scoped>\n",
       "    .dataframe tbody tr th:only-of-type {\n",
       "        vertical-align: middle;\n",
       "    }\n",
       "\n",
       "    .dataframe tbody tr th {\n",
       "        vertical-align: top;\n",
       "    }\n",
       "\n",
       "    .dataframe thead th {\n",
       "        text-align: right;\n",
       "    }\n",
       "</style>\n",
       "<table border=\"1\" class=\"dataframe\">\n",
       "  <thead>\n",
       "    <tr style=\"text-align: right;\">\n",
       "      <th></th>\n",
       "      <th>CV Train Score</th>\n",
       "      <th>CV Test Score</th>\n",
       "      <th>Training Data Accuracy Score</th>\n",
       "      <th>Testing Data Accuracy Score</th>\n",
       "      <th>Train-Test Difference</th>\n",
       "    </tr>\n",
       "  </thead>\n",
       "  <tbody>\n",
       "    <tr>\n",
       "      <th>AdaBoost</th>\n",
       "      <td>0.734249</td>\n",
       "      <td>0.746825</td>\n",
       "      <td>1.000000</td>\n",
       "      <td>0.746377</td>\n",
       "      <td>0.253623</td>\n",
       "    </tr>\n",
       "    <tr>\n",
       "      <th>Decision Tree</th>\n",
       "      <td>0.742037</td>\n",
       "      <td>0.743386</td>\n",
       "      <td>1.000000</td>\n",
       "      <td>0.750000</td>\n",
       "      <td>0.250000</td>\n",
       "    </tr>\n",
       "    <tr>\n",
       "      <th>Extra Trees</th>\n",
       "      <td>0.790149</td>\n",
       "      <td>0.797487</td>\n",
       "      <td>1.000000</td>\n",
       "      <td>0.789855</td>\n",
       "      <td>0.210145</td>\n",
       "    </tr>\n",
       "    <tr>\n",
       "      <th>Random Forest</th>\n",
       "      <td>0.787108</td>\n",
       "      <td>0.775529</td>\n",
       "      <td>0.987578</td>\n",
       "      <td>0.797101</td>\n",
       "      <td>0.190476</td>\n",
       "    </tr>\n",
       "    <tr>\n",
       "      <th>Gradient Boost</th>\n",
       "      <td>0.819679</td>\n",
       "      <td>0.804497</td>\n",
       "      <td>0.920807</td>\n",
       "      <td>0.822464</td>\n",
       "      <td>0.098344</td>\n",
       "    </tr>\n",
       "    <tr>\n",
       "      <th>k-Nearest Neighbors</th>\n",
       "      <td>0.799560</td>\n",
       "      <td>0.826058</td>\n",
       "      <td>0.877329</td>\n",
       "      <td>0.804348</td>\n",
       "      <td>0.072981</td>\n",
       "    </tr>\n",
       "    <tr>\n",
       "      <th>Gaussian Process</th>\n",
       "      <td>0.797949</td>\n",
       "      <td>0.822751</td>\n",
       "      <td>0.888199</td>\n",
       "      <td>0.822464</td>\n",
       "      <td>0.065735</td>\n",
       "    </tr>\n",
       "    <tr>\n",
       "      <th>Voting Classifier</th>\n",
       "      <td>0.810401</td>\n",
       "      <td>0.818783</td>\n",
       "      <td>0.871118</td>\n",
       "      <td>0.822464</td>\n",
       "      <td>0.048654</td>\n",
       "    </tr>\n",
       "    <tr>\n",
       "      <th>Bagging Classifier</th>\n",
       "      <td>0.791760</td>\n",
       "      <td>0.830026</td>\n",
       "      <td>0.847826</td>\n",
       "      <td>0.807971</td>\n",
       "      <td>0.039855</td>\n",
       "    </tr>\n",
       "    <tr>\n",
       "      <th>Linear SVM</th>\n",
       "      <td>0.824330</td>\n",
       "      <td>0.793386</td>\n",
       "      <td>0.827640</td>\n",
       "      <td>0.807971</td>\n",
       "      <td>0.019669</td>\n",
       "    </tr>\n",
       "    <tr>\n",
       "      <th>SGD Classifier</th>\n",
       "      <td>0.710885</td>\n",
       "      <td>0.739550</td>\n",
       "      <td>0.798137</td>\n",
       "      <td>0.786232</td>\n",
       "      <td>0.011905</td>\n",
       "    </tr>\n",
       "    <tr>\n",
       "      <th>RBF SVM</th>\n",
       "      <td>0.805689</td>\n",
       "      <td>0.826587</td>\n",
       "      <td>0.840062</td>\n",
       "      <td>0.833333</td>\n",
       "      <td>0.006729</td>\n",
       "    </tr>\n",
       "    <tr>\n",
       "      <th>Support Vector Machine</th>\n",
       "      <td>0.805689</td>\n",
       "      <td>0.826587</td>\n",
       "      <td>0.840062</td>\n",
       "      <td>0.833333</td>\n",
       "      <td>0.006729</td>\n",
       "    </tr>\n",
       "    <tr>\n",
       "      <th>LDA</th>\n",
       "      <td>0.816590</td>\n",
       "      <td>0.814815</td>\n",
       "      <td>0.821429</td>\n",
       "      <td>0.815217</td>\n",
       "      <td>0.006211</td>\n",
       "    </tr>\n",
       "    <tr>\n",
       "      <th>QDA</th>\n",
       "      <td>0.788574</td>\n",
       "      <td>0.665741</td>\n",
       "      <td>0.810559</td>\n",
       "      <td>0.804348</td>\n",
       "      <td>0.006211</td>\n",
       "    </tr>\n",
       "    <tr>\n",
       "      <th>Logistic Regression</th>\n",
       "      <td>0.819691</td>\n",
       "      <td>0.822222</td>\n",
       "      <td>0.821429</td>\n",
       "      <td>0.815217</td>\n",
       "      <td>0.006211</td>\n",
       "    </tr>\n",
       "    <tr>\n",
       "      <th>Multilayer Perceptron</th>\n",
       "      <td>0.801014</td>\n",
       "      <td>0.844577</td>\n",
       "      <td>0.810559</td>\n",
       "      <td>0.829710</td>\n",
       "      <td>-0.019151</td>\n",
       "    </tr>\n",
       "    <tr>\n",
       "      <th>Gaussian Naive Bayes</th>\n",
       "      <td>0.790125</td>\n",
       "      <td>0.833598</td>\n",
       "      <td>0.791925</td>\n",
       "      <td>0.822464</td>\n",
       "      <td>-0.030538</td>\n",
       "    </tr>\n",
       "  </tbody>\n",
       "</table>\n",
       "</div>"
      ],
      "text/plain": [
       "                        CV Train Score  CV Test Score  \\\n",
       "AdaBoost                      0.734249       0.746825   \n",
       "Decision Tree                 0.742037       0.743386   \n",
       "Extra Trees                   0.790149       0.797487   \n",
       "Random Forest                 0.787108       0.775529   \n",
       "Gradient Boost                0.819679       0.804497   \n",
       "k-Nearest Neighbors           0.799560       0.826058   \n",
       "Gaussian Process              0.797949       0.822751   \n",
       "Voting Classifier             0.810401       0.818783   \n",
       "Bagging Classifier            0.791760       0.830026   \n",
       "Linear SVM                    0.824330       0.793386   \n",
       "SGD Classifier                0.710885       0.739550   \n",
       "RBF SVM                       0.805689       0.826587   \n",
       "Support Vector Machine        0.805689       0.826587   \n",
       "LDA                           0.816590       0.814815   \n",
       "QDA                           0.788574       0.665741   \n",
       "Logistic Regression           0.819691       0.822222   \n",
       "Multilayer Perceptron         0.801014       0.844577   \n",
       "Gaussian Naive Bayes          0.790125       0.833598   \n",
       "\n",
       "                        Training Data Accuracy Score  \\\n",
       "AdaBoost                                    1.000000   \n",
       "Decision Tree                               1.000000   \n",
       "Extra Trees                                 1.000000   \n",
       "Random Forest                               0.987578   \n",
       "Gradient Boost                              0.920807   \n",
       "k-Nearest Neighbors                         0.877329   \n",
       "Gaussian Process                            0.888199   \n",
       "Voting Classifier                           0.871118   \n",
       "Bagging Classifier                          0.847826   \n",
       "Linear SVM                                  0.827640   \n",
       "SGD Classifier                              0.798137   \n",
       "RBF SVM                                     0.840062   \n",
       "Support Vector Machine                      0.840062   \n",
       "LDA                                         0.821429   \n",
       "QDA                                         0.810559   \n",
       "Logistic Regression                         0.821429   \n",
       "Multilayer Perceptron                       0.810559   \n",
       "Gaussian Naive Bayes                        0.791925   \n",
       "\n",
       "                        Testing Data Accuracy Score  Train-Test Difference  \n",
       "AdaBoost                                   0.746377               0.253623  \n",
       "Decision Tree                              0.750000               0.250000  \n",
       "Extra Trees                                0.789855               0.210145  \n",
       "Random Forest                              0.797101               0.190476  \n",
       "Gradient Boost                             0.822464               0.098344  \n",
       "k-Nearest Neighbors                        0.804348               0.072981  \n",
       "Gaussian Process                           0.822464               0.065735  \n",
       "Voting Classifier                          0.822464               0.048654  \n",
       "Bagging Classifier                         0.807971               0.039855  \n",
       "Linear SVM                                 0.807971               0.019669  \n",
       "SGD Classifier                             0.786232               0.011905  \n",
       "RBF SVM                                    0.833333               0.006729  \n",
       "Support Vector Machine                     0.833333               0.006729  \n",
       "LDA                                        0.815217               0.006211  \n",
       "QDA                                        0.804348               0.006211  \n",
       "Logistic Regression                        0.815217               0.006211  \n",
       "Multilayer Perceptron                      0.829710              -0.019151  \n",
       "Gaussian Naive Bayes                       0.822464              -0.030538  "
      ]
     },
     "execution_count": 45,
     "metadata": {},
     "output_type": "execute_result"
    }
   ],
   "source": [
    "cv_train = []\n",
    "cv_test = []\n",
    "train = []\n",
    "test = []\n",
    "for model in models:\n",
    "    cv_test.append(cross_val_score(model, X_test, y_test, cv=5).mean())\n",
    "    cv_train.append(cross_val_score(model, X_train, y_train, cv=5).mean())\n",
    "    model.fit(X_train,y_train)\n",
    "    train.append(model.score(X_train, y_train))\n",
    "    test.append(model.score(X_test, y_test))\n",
    "    \n",
    "scores_df = pd.DataFrame(cv_train, index=models_names)   \n",
    "scores_df.columns=['CV Train Score']\n",
    "scores_df['CV Test Score'] = cv_test\n",
    "scores_df['Training Data Accuracy Score'] = train\n",
    "scores_df['Testing Data Accuracy Score'] = test\n",
    "scores_df['Train-Test Difference'] = scores_df['Training Data Accuracy Score'] - scores_df['Testing Data Accuracy Score']\n",
    "scores_df.sort_values('Train-Test Difference', ascending=False)"
   ]
  },
  {
   "cell_type": "markdown",
   "metadata": {},
   "source": [
    "**Comparing the Accuracy Scores**"
   ]
  },
  {
   "cell_type": "code",
   "execution_count": 46,
   "metadata": {},
   "outputs": [
    {
     "data": {
      "text/html": [
       "<div>\n",
       "<style scoped>\n",
       "    .dataframe tbody tr th:only-of-type {\n",
       "        vertical-align: middle;\n",
       "    }\n",
       "\n",
       "    .dataframe tbody tr th {\n",
       "        vertical-align: top;\n",
       "    }\n",
       "\n",
       "    .dataframe thead th {\n",
       "        text-align: right;\n",
       "    }\n",
       "</style>\n",
       "<table border=\"1\" class=\"dataframe\">\n",
       "  <thead>\n",
       "    <tr style=\"text-align: right;\">\n",
       "      <th></th>\n",
       "      <th>NewAccuracyScore</th>\n",
       "      <th>AccuracyScore</th>\n",
       "      <th>Difference</th>\n",
       "    </tr>\n",
       "  </thead>\n",
       "  <tbody>\n",
       "    <tr>\n",
       "      <th>RBF SVM</th>\n",
       "      <td>0.833333</td>\n",
       "      <td>0.858696</td>\n",
       "      <td>-0.025362</td>\n",
       "    </tr>\n",
       "    <tr>\n",
       "      <th>Support Vector Machine</th>\n",
       "      <td>0.833333</td>\n",
       "      <td>0.858696</td>\n",
       "      <td>-0.025362</td>\n",
       "    </tr>\n",
       "    <tr>\n",
       "      <th>Multilayer Perceptron</th>\n",
       "      <td>0.829710</td>\n",
       "      <td>0.862319</td>\n",
       "      <td>-0.032609</td>\n",
       "    </tr>\n",
       "    <tr>\n",
       "      <th>Gaussian Process</th>\n",
       "      <td>0.822464</td>\n",
       "      <td>0.851449</td>\n",
       "      <td>-0.028986</td>\n",
       "    </tr>\n",
       "    <tr>\n",
       "      <th>Voting Classifier</th>\n",
       "      <td>0.822464</td>\n",
       "      <td>0.858696</td>\n",
       "      <td>-0.036232</td>\n",
       "    </tr>\n",
       "    <tr>\n",
       "      <th>Gradient Boost</th>\n",
       "      <td>0.822464</td>\n",
       "      <td>0.855072</td>\n",
       "      <td>-0.032609</td>\n",
       "    </tr>\n",
       "    <tr>\n",
       "      <th>Gaussian Naive Bayes</th>\n",
       "      <td>0.822464</td>\n",
       "      <td>0.811594</td>\n",
       "      <td>0.010870</td>\n",
       "    </tr>\n",
       "    <tr>\n",
       "      <th>Logistic Regression</th>\n",
       "      <td>0.815217</td>\n",
       "      <td>0.855072</td>\n",
       "      <td>-0.039855</td>\n",
       "    </tr>\n",
       "    <tr>\n",
       "      <th>LDA</th>\n",
       "      <td>0.815217</td>\n",
       "      <td>0.855072</td>\n",
       "      <td>-0.039855</td>\n",
       "    </tr>\n",
       "    <tr>\n",
       "      <th>Bagging Classifier</th>\n",
       "      <td>0.807971</td>\n",
       "      <td>0.876812</td>\n",
       "      <td>-0.068841</td>\n",
       "    </tr>\n",
       "    <tr>\n",
       "      <th>Linear SVM</th>\n",
       "      <td>0.807971</td>\n",
       "      <td>0.858696</td>\n",
       "      <td>-0.050725</td>\n",
       "    </tr>\n",
       "    <tr>\n",
       "      <th>QDA</th>\n",
       "      <td>0.804348</td>\n",
       "      <td>0.586957</td>\n",
       "      <td>0.217391</td>\n",
       "    </tr>\n",
       "    <tr>\n",
       "      <th>k-Nearest Neighbors</th>\n",
       "      <td>0.804348</td>\n",
       "      <td>0.862319</td>\n",
       "      <td>-0.057971</td>\n",
       "    </tr>\n",
       "    <tr>\n",
       "      <th>Random Forest</th>\n",
       "      <td>0.797101</td>\n",
       "      <td>0.862319</td>\n",
       "      <td>-0.065217</td>\n",
       "    </tr>\n",
       "    <tr>\n",
       "      <th>Extra Trees</th>\n",
       "      <td>0.789855</td>\n",
       "      <td>0.880435</td>\n",
       "      <td>-0.090580</td>\n",
       "    </tr>\n",
       "    <tr>\n",
       "      <th>Decision Tree</th>\n",
       "      <td>0.750000</td>\n",
       "      <td>0.818841</td>\n",
       "      <td>-0.068841</td>\n",
       "    </tr>\n",
       "    <tr>\n",
       "      <th>AdaBoost</th>\n",
       "      <td>0.746377</td>\n",
       "      <td>0.811594</td>\n",
       "      <td>-0.065217</td>\n",
       "    </tr>\n",
       "    <tr>\n",
       "      <th>SGD Classifier</th>\n",
       "      <td>0.271739</td>\n",
       "      <td>0.847826</td>\n",
       "      <td>-0.576087</td>\n",
       "    </tr>\n",
       "  </tbody>\n",
       "</table>\n",
       "</div>"
      ],
      "text/plain": [
       "                        NewAccuracyScore  AccuracyScore  Difference\n",
       "RBF SVM                         0.833333       0.858696   -0.025362\n",
       "Support Vector Machine          0.833333       0.858696   -0.025362\n",
       "Multilayer Perceptron           0.829710       0.862319   -0.032609\n",
       "Gaussian Process                0.822464       0.851449   -0.028986\n",
       "Voting Classifier               0.822464       0.858696   -0.036232\n",
       "Gradient Boost                  0.822464       0.855072   -0.032609\n",
       "Gaussian Naive Bayes            0.822464       0.811594    0.010870\n",
       "Logistic Regression             0.815217       0.855072   -0.039855\n",
       "LDA                             0.815217       0.855072   -0.039855\n",
       "Bagging Classifier              0.807971       0.876812   -0.068841\n",
       "Linear SVM                      0.807971       0.858696   -0.050725\n",
       "QDA                             0.804348       0.586957    0.217391\n",
       "k-Nearest Neighbors             0.804348       0.862319   -0.057971\n",
       "Random Forest                   0.797101       0.862319   -0.065217\n",
       "Extra Trees                     0.789855       0.880435   -0.090580\n",
       "Decision Tree                   0.750000       0.818841   -0.068841\n",
       "AdaBoost                        0.746377       0.811594   -0.065217\n",
       "SGD Classifier                  0.271739       0.847826   -0.576087"
      ]
     },
     "execution_count": 46,
     "metadata": {},
     "output_type": "execute_result"
    }
   ],
   "source": [
    "df_copy=[]\n",
    "for model in models:\n",
    "    model.fit(X_train,y_train)\n",
    "    pred_test = model.predict(X_test)\n",
    "    df_copy.append(metrics.accuracy_score(pred_test, y_test))\n",
    "    \n",
    "models_df2 = pd.DataFrame(df_copy, index=models_names)  \n",
    "models_df2.columns = ['NewAccuracyScore']  \n",
    "\n",
    "models_df2 = models_df2.merge(models_df, left_index=True, right_index=True, how='left')\n",
    "models_df2['Difference'] = models_df2['NewAccuracyScore'] - models_df2['AccuracyScore']\n",
    "models_df2.sort_values('NewAccuracyScore',ascending=False)"
   ]
  },
  {
   "cell_type": "code",
   "execution_count": 109,
   "metadata": {},
   "outputs": [
    {
     "data": {
      "image/png": "[encoded data removed]",
      "text/plain": [
       "<Figure size 864x1080 with 1 Axes>"
      ]
     },
     "metadata": {
      "image/png": {
       "height": 1071,
       "width": 855
      }
     },
     "output_type": "display_data"
    }
   ],
   "source": [
    "n_groups = 18\n",
    "\n",
    "x_name = ['KNN', 'SVM', 'Lin-SVM', 'RBF-SVM', 'GP', 'DT', 'ET','RF', 'GB', 'AB', 'GNB','LDA', 'QDA', 'LR', 'SGD',\n",
    "          'MLP', 'VC', 'BGC']\n",
    "\n",
    "index = np.arange(n_groups)\n",
    "bar_width = 0.3\n",
    "opacity = 0.8\n",
    "fig = plt.figure(figsize=(12,15))\n",
    "\n",
    "rects1 = plt.bar(index, models_df2.NewAccuracyScore, bar_width, \n",
    "                 alpha=opacity, color='green', label='New Accuracy Score')\n",
    "rects2 = plt.bar(index + bar_width, models_df2.AccuracyScore, bar_width,  \n",
    "                alpha=opacity, color='lightgreen', label='Accuracy Score')\n",
    "\n",
    "plt.xlabel('Model Comparison')\n",
    "plt.ylabel('Prediction Accuracy Scores')\n",
    "plt.title('Prediction Improvement')\n",
    "plt.xticks(index + bar_width, x_name)\n",
    "plt.legend()\n",
    " \n",
    "plt.tight_layout()\n",
    "plt.show();"
   ]
  },
  {
   "cell_type": "markdown",
   "metadata": {},
   "source": [
    "Data Frame above shows us the accuracy differences. As we can see most of the scores have been decreased. While each different model has its own method where it takes different columns and predict accordingly. \n",
    "- The correlation between columns are not very high, thus when we choose the most related columns the scores don't change that much, mostly they decrease. So I am proceeding my analysis by having all the columns to predict the disease. \n",
    "\n",
    "While the accuracy scores have been decreased I chose the best model by comparing the old scores where I used every column. \n",
    "\n",
    "Next step I did grid search on the models with highest score, to see if I can increase the accuracy by changing the parameters in the best models. These models are \n",
    "- Bagging Classifier 0.86\n",
    "- Multilayer Perceptron 0.85\n",
    "- RBF SVM 0.85\n",
    "- Gradient Boost 0.85\n",
    "- Support Vector Machine 0.85\n",
    "- Logistic Regression 0.85"
   ]
  },
  {
   "cell_type": "markdown",
   "metadata": {},
   "source": [
    "### Model Selection"
   ]
  },
  {
   "cell_type": "markdown",
   "metadata": {},
   "source": [
    "Choose the best 6 models and continue analysis\n",
    "    - Change the parameters and see the change\n",
    "    - Pick the best model "
   ]
  },
  {
   "cell_type": "markdown",
   "metadata": {},
   "source": [
    "From the analysis from previous section, I picked **Bagging Classifier, Multilayer Perceptron, RBF SVM, Gradient Boost, Support Vector Machine, Logistic Regression, Voting Classifier** models as my best models. In this section I am trying to improve these best models by changing their parameter using Grid Search. At the end I will compare my accuracy scores with the previous one's and pick my best model. \n",
    "\n",
    "- Support Vector Machine and RBF SVM are going to be in the same Grid Search model, while they are both Support Vector Machine with different kernels. Grid Search will show the best kernel. "
   ]
  },
  {
   "cell_type": "markdown",
   "metadata": {},
   "source": [
    "** Define Values **"
   ]
  },
  {
   "cell_type": "code",
   "execution_count": 48,
   "metadata": {},
   "outputs": [
    {
     "name": "stdout",
     "output_type": "stream",
     "text": [
      "Baseline: 1.0    0.553261\n",
      "0.0    0.446739\n",
      "Name: pred_attribute, dtype: float64\n"
     ]
    }
   ],
   "source": [
    "X = df[['age', 'sex', 'cp', 'trestbps', 'chol', 'fbs', 'restecg','thalach', 'exang', 'oldpeak', \n",
    "        'slop', 'ca', 'thal','origin']]\n",
    "y = df[['pred_attribute']]\n",
    "\n",
    "y['pred_attribute'].replace(to_replace = [1,2,3,4], value = [1,1,1,1], inplace = True)\n",
    "y = y.pred_attribute\n",
    "\n",
    "#baseline\n",
    "print('Baseline:', y.value_counts(normalize=True))\n",
    "\n",
    "#get dummies for categorical variables\n",
    "X_dumm = pd.get_dummies(X, columns = ['sex', 'cp', 'fbs', 'restecg', 'exang', 'slop', 'ca', 'thal', 'origin'], \n",
    "                        drop_first = True)\n",
    "\n",
    "#standardize the X\n",
    "Xs = scaler.fit_transform(X_dumm)\n",
    "Xs = pd.DataFrame(Xs, columns=X_dumm.columns)\n",
    "\n",
    "#train-test split\n",
    "X_train, X_test, y_train, y_test = train_test_split(Xs, y, test_size = 0.3, random_state=random_state)"
   ]
  },
  {
   "cell_type": "markdown",
   "metadata": {},
   "source": [
    "** Grid Search Function **"
   ]
  },
  {
   "cell_type": "markdown",
   "metadata": {},
   "source": [
    "** Models **"
   ]
  },
  {
   "cell_type": "code",
   "execution_count": 49,
   "metadata": {},
   "outputs": [],
   "source": [
    "#Best Models\n",
    "model_SVC = SVC(kernel=\"linear\",random_state=random_state, probability=True)\n",
    "model_MLP = MLPClassifier(hidden_layer_sizes=(100,), momentum=0.9, random_state=random_state)\n",
    "model_BGC = BaggingClassifier(KNeighborsClassifier(),random_state=random_state)\n",
    "model_LR = LogisticRegression(random_state=random_state)\n",
    "model_VC = VotingClassifier(estimators=[('lr', LogisticRegression()), ('SVM',SVC(C=1000, probability=True)), \n",
    "                                        ('rf',RandomForestClassifier()), ('gnb', GaussianNB()),\n",
    "                                        ('MLP', MLPClassifier(hidden_layer_sizes=(100,)))], voting = 'soft')\n",
    "model_GBC = GradientBoostingClassifier(random_state=random_state)"
   ]
  },
  {
   "cell_type": "markdown",
   "metadata": {},
   "source": [
    "** Parameters for GridSearch **"
   ]
  },
  {
   "cell_type": "code",
   "execution_count": 50,
   "metadata": {},
   "outputs": [],
   "source": [
    "params_SVC = {'kernel' : ['linear','rbf','poly','sigmoid'] , 'gamma' : [1e-1, 1e-2, 1e-3, 1e-4],\n",
    "              'C': [1, 10, 100, 1000] }\n",
    "\n",
    "params_MLP = {'solver': ['sgd','lbfgs'], 'max_iter': np.arange(1000,2000,100), \n",
    "              'alpha': 10.0 ** -np.arange(1, 10), 'hidden_layer_sizes':np.arange(10, 28)}\n",
    "\n",
    "params_BGC = {'base_estimator':[None, Perceptron(),KNeighborsClassifier(),SVC()], \n",
    "              'n_estimators':np.arange(10,100,10), 'max_samples': np.linspace(0.8, 1.0, 3), \n",
    "              'max_features':range(int(3/4.*X_train.shape[1]), X_train.shape[1]+1), 'bootstrap': ['True','False']}\n",
    "\n",
    "params_LR = {'penalty' : ['l1','l2'], 'C' : [0.001, 0.01, 0.1, 1, 10, 100, 1000] }\n",
    "\n",
    "params_VC = {'lr__C': [1.0, 100.0], 'rf__n_estimators': [20, 200] }\n",
    "\n",
    "params_GBC = { 'learning_rate' : [0.01, 0.05, 0.075, 0.1, 0.2], 'max_depth' :[3,5,8],\n",
    "              'min_samples_split' : np.linspace(0.1, 0.5, 12), 'min_samples_leaf' : np.linspace(0.1, 0.5, 12), \n",
    "              'max_features' :['log2','sqrt'], 'criterion' : ['friedman_mse',  'mae'], \n",
    "              'subsample':[0.5, 0.75, 0.9, 1.0] }\n"
   ]
  },
  {
   "cell_type": "code",
   "execution_count": 51,
   "metadata": {
    "scrolled": false
   },
   "outputs": [
    {
     "name": "stdout",
     "output_type": "stream",
     "text": [
      "Best score\n",
      "0.4732603922776872\n",
      "\n",
      "Best estimator\n",
      "{'C': 10, 'cache_size': 200, 'class_weight': None, 'coef0': 0.0, 'decision_function_shape': 'ovr', 'degree': 3, 'gamma': 0.01, 'kernel': 'rbf', 'max_iter': -1, 'probability': True, 'random_state': 1, 'shrinking': True, 'tol': 0.001, 'verbose': False}\n",
      "\n",
      "Test score:  0.42265608238575414\n",
      "Best score\n",
      "0.4984015842571502\n",
      "\n",
      "Best estimator\n",
      "{'activation': 'relu', 'alpha': 0.1, 'batch_size': 'auto', 'beta_1': 0.9, 'beta_2': 0.999, 'early_stopping': False, 'epsilon': 1e-08, 'hidden_layer_sizes': 14, 'learning_rate': 'constant', 'learning_rate_init': 0.001, 'max_iter': 1000, 'momentum': 0.9, 'n_iter_no_change': 10, 'nesterovs_momentum': True, 'power_t': 0.5, 'random_state': 1, 'shuffle': True, 'solver': 'sgd', 'tol': 0.0001, 'validation_fraction': 0.1, 'verbose': False, 'warm_start': False}\n",
      "\n",
      "Test score:  0.4522634627762283\n",
      "Best score\n",
      "0.5231336587614525\n",
      "\n",
      "Best estimator\n",
      "{'base_estimator__C': 1.0, 'base_estimator__cache_size': 200, 'base_estimator__class_weight': None, 'base_estimator__coef0': 0.0, 'base_estimator__decision_function_shape': 'ovr', 'base_estimator__degree': 3, 'base_estimator__gamma': 'auto_deprecated', 'base_estimator__kernel': 'rbf', 'base_estimator__max_iter': -1, 'base_estimator__probability': False, 'base_estimator__random_state': None, 'base_estimator__shrinking': True, 'base_estimator__tol': 0.001, 'base_estimator__verbose': False, 'base_estimator': SVC(C=1.0, cache_size=200, class_weight=None, coef0=0.0,\n",
      "  decision_function_shape='ovr', degree=3, gamma='auto_deprecated',\n",
      "  kernel='rbf', max_iter=-1, probability=False, random_state=None,\n",
      "  shrinking=True, tol=0.001, verbose=False), 'bootstrap': 'True', 'bootstrap_features': False, 'max_features': 30, 'max_samples': 1.0, 'n_estimators': 40, 'n_jobs': None, 'oob_score': False, 'random_state': 1, 'verbose': 0, 'warm_start': False}\n",
      "\n",
      "Test score:  0.4670671529714653\n",
      "Best score\n",
      "0.4856958936553276\n",
      "\n",
      "Best estimator\n",
      "{'C': 0.1, 'class_weight': None, 'dual': False, 'fit_intercept': True, 'intercept_scaling': 1, 'max_iter': 100, 'multi_class': 'warn', 'n_jobs': None, 'penalty': 'l1', 'random_state': 1, 'solver': 'warn', 'tol': 0.0001, 'verbose': 0, 'warm_start': False}\n",
      "\n",
      "Test score:  0.49667453336193945\n",
      "Best score\n",
      "0.37932584401793584\n",
      "\n",
      "Best estimator\n",
      "{'estimators': [('lr', LogisticRegression(C=1.0, class_weight=None, dual=False, fit_intercept=True,\n",
      "          intercept_scaling=1, max_iter=100, multi_class='warn',\n",
      "          n_jobs=None, penalty='l2', random_state=None, solver='warn',\n",
      "          tol=0.0001, verbose=0, warm_start=False)), ('SVM', SVC(C=1000, cache_size=200, class_weight=None, coef0=0.0,\n",
      "  decision_function_shape='ovr', degree=3, gamma='auto_deprecated',\n",
      "  kernel='rbf', max_iter=-1, probability=True, random_state=None,\n",
      "  shrinking=True, tol=0.001, verbose=False)), ('rf', RandomForestClassifier(bootstrap=True, class_weight=None, criterion='gini',\n",
      "            max_depth=None, max_features='auto', max_leaf_nodes=None,\n",
      "            min_impurity_decrease=0.0, min_impurity_split=None,\n",
      "            min_samples_leaf=1, min_samples_split=2,\n",
      "            min_weight_fraction_leaf=0.0, n_estimators=200, n_jobs=None,\n",
      "            oob_score=False, random_state=None, verbose=0,\n",
      "            warm_start=False)), ('gnb', GaussianNB(priors=None, var_smoothing=1e-09)), ('MLP', MLPClassifier(activation='relu', alpha=0.0001, batch_size='auto', beta_1=0.9,\n",
      "       beta_2=0.999, early_stopping=False, epsilon=1e-08,\n",
      "       hidden_layer_sizes=(100,), learning_rate='constant',\n",
      "       learning_rate_init=0.001, max_iter=200, momentum=0.9,\n",
      "       n_iter_no_change=10, nesterovs_momentum=True, power_t=0.5,\n",
      "       random_state=None, shuffle=True, solver='adam', tol=0.0001,\n",
      "       validation_fraction=0.1, verbose=False, warm_start=False))], 'flatten_transform': None, 'n_jobs': None, 'voting': 'soft', 'weights': None, 'lr': LogisticRegression(C=1.0, class_weight=None, dual=False, fit_intercept=True,\n",
      "          intercept_scaling=1, max_iter=100, multi_class='warn',\n",
      "          n_jobs=None, penalty='l2', random_state=None, solver='warn',\n",
      "          tol=0.0001, verbose=0, warm_start=False), 'SVM': SVC(C=1000, cache_size=200, class_weight=None, coef0=0.0,\n",
      "  decision_function_shape='ovr', degree=3, gamma='auto_deprecated',\n",
      "  kernel='rbf', max_iter=-1, probability=True, random_state=None,\n",
      "  shrinking=True, tol=0.001, verbose=False), 'rf': RandomForestClassifier(bootstrap=True, class_weight=None, criterion='gini',\n",
      "            max_depth=None, max_features='auto', max_leaf_nodes=None,\n",
      "            min_impurity_decrease=0.0, min_impurity_split=None,\n",
      "            min_samples_leaf=1, min_samples_split=2,\n",
      "            min_weight_fraction_leaf=0.0, n_estimators=200, n_jobs=None,\n",
      "            oob_score=False, random_state=None, verbose=0,\n",
      "            warm_start=False), 'gnb': GaussianNB(priors=None, var_smoothing=1e-09), 'MLP': MLPClassifier(activation='relu', alpha=0.0001, batch_size='auto', beta_1=0.9,\n",
      "       beta_2=0.999, early_stopping=False, epsilon=1e-08,\n",
      "       hidden_layer_sizes=(100,), learning_rate='constant',\n",
      "       learning_rate_init=0.001, max_iter=200, momentum=0.9,\n",
      "       n_iter_no_change=10, nesterovs_momentum=True, power_t=0.5,\n",
      "       random_state=None, shuffle=True, solver='adam', tol=0.0001,\n",
      "       validation_fraction=0.1, verbose=False, warm_start=False), 'lr__C': 1.0, 'lr__class_weight': None, 'lr__dual': False, 'lr__fit_intercept': True, 'lr__intercept_scaling': 1, 'lr__max_iter': 100, 'lr__multi_class': 'warn', 'lr__n_jobs': None, 'lr__penalty': 'l2', 'lr__random_state': None, 'lr__solver': 'warn', 'lr__tol': 0.0001, 'lr__verbose': 0, 'lr__warm_start': False, 'SVM__C': 1000, 'SVM__cache_size': 200, 'SVM__class_weight': None, 'SVM__coef0': 0.0, 'SVM__decision_function_shape': 'ovr', 'SVM__degree': 3, 'SVM__gamma': 'auto_deprecated', 'SVM__kernel': 'rbf', 'SVM__max_iter': -1, 'SVM__probability': True, 'SVM__random_state': None, 'SVM__shrinking': True, 'SVM__tol': 0.001, 'SVM__verbose': False, 'rf__bootstrap': True, 'rf__class_weight': None, 'rf__criterion': 'gini', 'rf__max_depth': None, 'rf__max_features': 'auto', 'rf__max_leaf_nodes': None, 'rf__min_impurity_decrease': 0.0, 'rf__min_impurity_split': None, 'rf__min_samples_leaf': 1, 'rf__min_samples_split': 2, 'rf__min_weight_fraction_leaf': 0.0, 'rf__n_estimators': 200, 'rf__n_jobs': None, 'rf__oob_score': False, 'rf__random_state': None, 'rf__verbose': 0, 'rf__warm_start': False, 'gnb__priors': None, 'gnb__var_smoothing': 1e-09, 'MLP__activation': 'relu', 'MLP__alpha': 0.0001, 'MLP__batch_size': 'auto', 'MLP__beta_1': 0.9, 'MLP__beta_2': 0.999, 'MLP__early_stopping': False, 'MLP__epsilon': 1e-08, 'MLP__hidden_layer_sizes': (100,), 'MLP__learning_rate': 'constant', 'MLP__learning_rate_init': 0.001, 'MLP__max_iter': 200, 'MLP__momentum': 0.9, 'MLP__n_iter_no_change': 10, 'MLP__nesterovs_momentum': True, 'MLP__power_t': 0.5, 'MLP__random_state': None, 'MLP__shuffle': True, 'MLP__solver': 'adam', 'MLP__tol': 0.0001, 'MLP__validation_fraction': 0.1, 'MLP__verbose': False, 'MLP__warm_start': False}\n",
      "\n",
      "Test score:  0.4670671529714653\n"
     ]
    },
    {
     "ename": "KeyboardInterrupt",
     "evalue": "",
     "output_type": "error",
     "traceback": [
      "\u001b[0;31m---------------------------------------------------------------------------\u001b[0m",
      "\u001b[0;31mKeyboardInterrupt\u001b[0m                         Traceback (most recent call last)",
      "\u001b[0;32m<ipython-input-51-61239383a0ad>\u001b[0m in \u001b[0;36m<module>\u001b[0;34m()\u001b[0m\n\u001b[1;32m     11\u001b[0m                      scoring='r2',cv=5)\n\u001b[1;32m     12\u001b[0m gs_GBC = grid_search_func_tt(model_GBC, params_GBC, X_train, X_test, y_train, y_test, scoring_function=metrics.r2_score, \n\u001b[0;32m---> 13\u001b[0;31m                      scoring='r2',cv=5)\n\u001b[0m",
      "\u001b[0;32m<ipython-input-14-0126d348ff95>\u001b[0m in \u001b[0;36mgrid_search_func_tt\u001b[0;34m(model, params, X_train, X_test, y_train, y_test, scoring_function, scoring, cv)\u001b[0m\n\u001b[1;32m      9\u001b[0m         iid=False)\n\u001b[1;32m     10\u001b[0m \u001b[0;34m\u001b[0m\u001b[0m\n\u001b[0;32m---> 11\u001b[0;31m     \u001b[0mgs\u001b[0m\u001b[0;34m.\u001b[0m\u001b[0mfit\u001b[0m\u001b[0;34m(\u001b[0m\u001b[0mX_train\u001b[0m\u001b[0;34m,\u001b[0m \u001b[0my_train\u001b[0m\u001b[0;34m)\u001b[0m\u001b[0;34m\u001b[0m\u001b[0m\n\u001b[0m\u001b[1;32m     12\u001b[0m \u001b[0;34m\u001b[0m\u001b[0m\n\u001b[1;32m     13\u001b[0m     \u001b[0mprint\u001b[0m\u001b[0;34m(\u001b[0m\u001b[0;34m\"Best score\"\u001b[0m\u001b[0;34m)\u001b[0m\u001b[0;34m\u001b[0m\u001b[0m\n",
      "\u001b[0;32m/anaconda3/lib/python3.6/site-packages/sklearn/model_selection/_search.py\u001b[0m in \u001b[0;36mfit\u001b[0;34m(self, X, y, groups, **fit_params)\u001b[0m\n\u001b[1;32m    720\u001b[0m                 \u001b[0;32mreturn\u001b[0m \u001b[0mresults_container\u001b[0m\u001b[0;34m[\u001b[0m\u001b[0;36m0\u001b[0m\u001b[0;34m]\u001b[0m\u001b[0;34m\u001b[0m\u001b[0m\n\u001b[1;32m    721\u001b[0m \u001b[0;34m\u001b[0m\u001b[0m\n\u001b[0;32m--> 722\u001b[0;31m             \u001b[0mself\u001b[0m\u001b[0;34m.\u001b[0m\u001b[0m_run_search\u001b[0m\u001b[0;34m(\u001b[0m\u001b[0mevaluate_candidates\u001b[0m\u001b[0;34m)\u001b[0m\u001b[0;34m\u001b[0m\u001b[0m\n\u001b[0m\u001b[1;32m    723\u001b[0m \u001b[0;34m\u001b[0m\u001b[0m\n\u001b[1;32m    724\u001b[0m         \u001b[0mresults\u001b[0m \u001b[0;34m=\u001b[0m \u001b[0mresults_container\u001b[0m\u001b[0;34m[\u001b[0m\u001b[0;36m0\u001b[0m\u001b[0;34m]\u001b[0m\u001b[0;34m\u001b[0m\u001b[0m\n",
      "\u001b[0;32m/anaconda3/lib/python3.6/site-packages/sklearn/model_selection/_search.py\u001b[0m in \u001b[0;36m_run_search\u001b[0;34m(self, evaluate_candidates)\u001b[0m\n\u001b[1;32m   1189\u001b[0m     \u001b[0;32mdef\u001b[0m \u001b[0m_run_search\u001b[0m\u001b[0;34m(\u001b[0m\u001b[0mself\u001b[0m\u001b[0;34m,\u001b[0m \u001b[0mevaluate_candidates\u001b[0m\u001b[0;34m)\u001b[0m\u001b[0;34m:\u001b[0m\u001b[0;34m\u001b[0m\u001b[0m\n\u001b[1;32m   1190\u001b[0m         \u001b[0;34m\"\"\"Search all candidates in param_grid\"\"\"\u001b[0m\u001b[0;34m\u001b[0m\u001b[0m\n\u001b[0;32m-> 1191\u001b[0;31m         \u001b[0mevaluate_candidates\u001b[0m\u001b[0;34m(\u001b[0m\u001b[0mParameterGrid\u001b[0m\u001b[0;34m(\u001b[0m\u001b[0mself\u001b[0m\u001b[0;34m.\u001b[0m\u001b[0mparam_grid\u001b[0m\u001b[0;34m)\u001b[0m\u001b[0;34m)\u001b[0m\u001b[0;34m\u001b[0m\u001b[0m\n\u001b[0m\u001b[1;32m   1192\u001b[0m \u001b[0;34m\u001b[0m\u001b[0m\n\u001b[1;32m   1193\u001b[0m \u001b[0;34m\u001b[0m\u001b[0m\n",
      "\u001b[0;32m/anaconda3/lib/python3.6/site-packages/sklearn/model_selection/_search.py\u001b[0m in \u001b[0;36mevaluate_candidates\u001b[0;34m(candidate_params)\u001b[0m\n\u001b[1;32m    709\u001b[0m                                \u001b[0;32mfor\u001b[0m \u001b[0mparameters\u001b[0m\u001b[0;34m,\u001b[0m \u001b[0;34m(\u001b[0m\u001b[0mtrain\u001b[0m\u001b[0;34m,\u001b[0m \u001b[0mtest\u001b[0m\u001b[0;34m)\u001b[0m\u001b[0;34m\u001b[0m\u001b[0m\n\u001b[1;32m    710\u001b[0m                                in product(candidate_params,\n\u001b[0;32m--> 711\u001b[0;31m                                           cv.split(X, y, groups)))\n\u001b[0m\u001b[1;32m    712\u001b[0m \u001b[0;34m\u001b[0m\u001b[0m\n\u001b[1;32m    713\u001b[0m                 \u001b[0mall_candidate_params\u001b[0m\u001b[0;34m.\u001b[0m\u001b[0mextend\u001b[0m\u001b[0;34m(\u001b[0m\u001b[0mcandidate_params\u001b[0m\u001b[0;34m)\u001b[0m\u001b[0;34m\u001b[0m\u001b[0m\n",
      "\u001b[0;32m/anaconda3/lib/python3.6/site-packages/sklearn/externals/joblib/parallel.py\u001b[0m in \u001b[0;36m__call__\u001b[0;34m(self, iterable)\u001b[0m\n\u001b[1;32m    918\u001b[0m                 \u001b[0mself\u001b[0m\u001b[0;34m.\u001b[0m\u001b[0m_iterating\u001b[0m \u001b[0;34m=\u001b[0m \u001b[0mself\u001b[0m\u001b[0;34m.\u001b[0m\u001b[0m_original_iterator\u001b[0m \u001b[0;32mis\u001b[0m \u001b[0;32mnot\u001b[0m \u001b[0;32mNone\u001b[0m\u001b[0;34m\u001b[0m\u001b[0m\n\u001b[1;32m    919\u001b[0m \u001b[0;34m\u001b[0m\u001b[0m\n\u001b[0;32m--> 920\u001b[0;31m             \u001b[0;32mwhile\u001b[0m \u001b[0mself\u001b[0m\u001b[0;34m.\u001b[0m\u001b[0mdispatch_one_batch\u001b[0m\u001b[0;34m(\u001b[0m\u001b[0miterator\u001b[0m\u001b[0;34m)\u001b[0m\u001b[0;34m:\u001b[0m\u001b[0;34m\u001b[0m\u001b[0m\n\u001b[0m\u001b[1;32m    921\u001b[0m                 \u001b[0;32mpass\u001b[0m\u001b[0;34m\u001b[0m\u001b[0m\n\u001b[1;32m    922\u001b[0m \u001b[0;34m\u001b[0m\u001b[0m\n",
      "\u001b[0;32m/anaconda3/lib/python3.6/site-packages/sklearn/externals/joblib/parallel.py\u001b[0m in \u001b[0;36mdispatch_one_batch\u001b[0;34m(self, iterator)\u001b[0m\n\u001b[1;32m    757\u001b[0m                 \u001b[0;32mreturn\u001b[0m \u001b[0;32mFalse\u001b[0m\u001b[0;34m\u001b[0m\u001b[0m\n\u001b[1;32m    758\u001b[0m             \u001b[0;32melse\u001b[0m\u001b[0;34m:\u001b[0m\u001b[0;34m\u001b[0m\u001b[0m\n\u001b[0;32m--> 759\u001b[0;31m                 \u001b[0mself\u001b[0m\u001b[0;34m.\u001b[0m\u001b[0m_dispatch\u001b[0m\u001b[0;34m(\u001b[0m\u001b[0mtasks\u001b[0m\u001b[0;34m)\u001b[0m\u001b[0;34m\u001b[0m\u001b[0m\n\u001b[0m\u001b[1;32m    760\u001b[0m                 \u001b[0;32mreturn\u001b[0m \u001b[0;32mTrue\u001b[0m\u001b[0;34m\u001b[0m\u001b[0m\n\u001b[1;32m    761\u001b[0m \u001b[0;34m\u001b[0m\u001b[0m\n",
      "\u001b[0;32m/anaconda3/lib/python3.6/site-packages/sklearn/externals/joblib/parallel.py\u001b[0m in \u001b[0;36m_dispatch\u001b[0;34m(self, batch)\u001b[0m\n\u001b[1;32m    714\u001b[0m         \u001b[0;32mwith\u001b[0m \u001b[0mself\u001b[0m\u001b[0;34m.\u001b[0m\u001b[0m_lock\u001b[0m\u001b[0;34m:\u001b[0m\u001b[0;34m\u001b[0m\u001b[0m\n\u001b[1;32m    715\u001b[0m             \u001b[0mjob_idx\u001b[0m \u001b[0;34m=\u001b[0m \u001b[0mlen\u001b[0m\u001b[0;34m(\u001b[0m\u001b[0mself\u001b[0m\u001b[0;34m.\u001b[0m\u001b[0m_jobs\u001b[0m\u001b[0;34m)\u001b[0m\u001b[0;34m\u001b[0m\u001b[0m\n\u001b[0;32m--> 716\u001b[0;31m             \u001b[0mjob\u001b[0m \u001b[0;34m=\u001b[0m \u001b[0mself\u001b[0m\u001b[0;34m.\u001b[0m\u001b[0m_backend\u001b[0m\u001b[0;34m.\u001b[0m\u001b[0mapply_async\u001b[0m\u001b[0;34m(\u001b[0m\u001b[0mbatch\u001b[0m\u001b[0;34m,\u001b[0m \u001b[0mcallback\u001b[0m\u001b[0;34m=\u001b[0m\u001b[0mcb\u001b[0m\u001b[0;34m)\u001b[0m\u001b[0;34m\u001b[0m\u001b[0m\n\u001b[0m\u001b[1;32m    717\u001b[0m             \u001b[0;31m# A job can complete so quickly than its callback is\u001b[0m\u001b[0;34m\u001b[0m\u001b[0;34m\u001b[0m\u001b[0m\n\u001b[1;32m    718\u001b[0m             \u001b[0;31m# called before we get here, causing self._jobs to\u001b[0m\u001b[0;34m\u001b[0m\u001b[0;34m\u001b[0m\u001b[0m\n",
      "\u001b[0;32m/anaconda3/lib/python3.6/site-packages/sklearn/externals/joblib/_parallel_backends.py\u001b[0m in \u001b[0;36mapply_async\u001b[0;34m(self, func, callback)\u001b[0m\n\u001b[1;32m    180\u001b[0m     \u001b[0;32mdef\u001b[0m \u001b[0mapply_async\u001b[0m\u001b[0;34m(\u001b[0m\u001b[0mself\u001b[0m\u001b[0;34m,\u001b[0m \u001b[0mfunc\u001b[0m\u001b[0;34m,\u001b[0m \u001b[0mcallback\u001b[0m\u001b[0;34m=\u001b[0m\u001b[0;32mNone\u001b[0m\u001b[0;34m)\u001b[0m\u001b[0;34m:\u001b[0m\u001b[0;34m\u001b[0m\u001b[0m\n\u001b[1;32m    181\u001b[0m         \u001b[0;34m\"\"\"Schedule a func to be run\"\"\"\u001b[0m\u001b[0;34m\u001b[0m\u001b[0m\n\u001b[0;32m--> 182\u001b[0;31m         \u001b[0mresult\u001b[0m \u001b[0;34m=\u001b[0m \u001b[0mImmediateResult\u001b[0m\u001b[0;34m(\u001b[0m\u001b[0mfunc\u001b[0m\u001b[0;34m)\u001b[0m\u001b[0;34m\u001b[0m\u001b[0m\n\u001b[0m\u001b[1;32m    183\u001b[0m         \u001b[0;32mif\u001b[0m \u001b[0mcallback\u001b[0m\u001b[0;34m:\u001b[0m\u001b[0;34m\u001b[0m\u001b[0m\n\u001b[1;32m    184\u001b[0m             \u001b[0mcallback\u001b[0m\u001b[0;34m(\u001b[0m\u001b[0mresult\u001b[0m\u001b[0;34m)\u001b[0m\u001b[0;34m\u001b[0m\u001b[0m\n",
      "\u001b[0;32m/anaconda3/lib/python3.6/site-packages/sklearn/externals/joblib/_parallel_backends.py\u001b[0m in \u001b[0;36m__init__\u001b[0;34m(self, batch)\u001b[0m\n\u001b[1;32m    547\u001b[0m         \u001b[0;31m# Don't delay the application, to avoid keeping the input\u001b[0m\u001b[0;34m\u001b[0m\u001b[0;34m\u001b[0m\u001b[0m\n\u001b[1;32m    548\u001b[0m         \u001b[0;31m# arguments in memory\u001b[0m\u001b[0;34m\u001b[0m\u001b[0;34m\u001b[0m\u001b[0m\n\u001b[0;32m--> 549\u001b[0;31m         \u001b[0mself\u001b[0m\u001b[0;34m.\u001b[0m\u001b[0mresults\u001b[0m \u001b[0;34m=\u001b[0m \u001b[0mbatch\u001b[0m\u001b[0;34m(\u001b[0m\u001b[0;34m)\u001b[0m\u001b[0;34m\u001b[0m\u001b[0m\n\u001b[0m\u001b[1;32m    550\u001b[0m \u001b[0;34m\u001b[0m\u001b[0m\n\u001b[1;32m    551\u001b[0m     \u001b[0;32mdef\u001b[0m \u001b[0mget\u001b[0m\u001b[0;34m(\u001b[0m\u001b[0mself\u001b[0m\u001b[0;34m)\u001b[0m\u001b[0;34m:\u001b[0m\u001b[0;34m\u001b[0m\u001b[0m\n",
      "\u001b[0;32m/anaconda3/lib/python3.6/site-packages/sklearn/externals/joblib/parallel.py\u001b[0m in \u001b[0;36m__call__\u001b[0;34m(self)\u001b[0m\n\u001b[1;32m    223\u001b[0m         \u001b[0;32mwith\u001b[0m \u001b[0mparallel_backend\u001b[0m\u001b[0;34m(\u001b[0m\u001b[0mself\u001b[0m\u001b[0;34m.\u001b[0m\u001b[0m_backend\u001b[0m\u001b[0;34m,\u001b[0m \u001b[0mn_jobs\u001b[0m\u001b[0;34m=\u001b[0m\u001b[0mself\u001b[0m\u001b[0;34m.\u001b[0m\u001b[0m_n_jobs\u001b[0m\u001b[0;34m)\u001b[0m\u001b[0;34m:\u001b[0m\u001b[0;34m\u001b[0m\u001b[0m\n\u001b[1;32m    224\u001b[0m             return [func(*args, **kwargs)\n\u001b[0;32m--> 225\u001b[0;31m                     for func, args, kwargs in self.items]\n\u001b[0m\u001b[1;32m    226\u001b[0m \u001b[0;34m\u001b[0m\u001b[0m\n\u001b[1;32m    227\u001b[0m     \u001b[0;32mdef\u001b[0m \u001b[0m__len__\u001b[0m\u001b[0;34m(\u001b[0m\u001b[0mself\u001b[0m\u001b[0;34m)\u001b[0m\u001b[0;34m:\u001b[0m\u001b[0;34m\u001b[0m\u001b[0m\n",
      "\u001b[0;32m/anaconda3/lib/python3.6/site-packages/sklearn/externals/joblib/parallel.py\u001b[0m in \u001b[0;36m<listcomp>\u001b[0;34m(.0)\u001b[0m\n\u001b[1;32m    223\u001b[0m         \u001b[0;32mwith\u001b[0m \u001b[0mparallel_backend\u001b[0m\u001b[0;34m(\u001b[0m\u001b[0mself\u001b[0m\u001b[0;34m.\u001b[0m\u001b[0m_backend\u001b[0m\u001b[0;34m,\u001b[0m \u001b[0mn_jobs\u001b[0m\u001b[0;34m=\u001b[0m\u001b[0mself\u001b[0m\u001b[0;34m.\u001b[0m\u001b[0m_n_jobs\u001b[0m\u001b[0;34m)\u001b[0m\u001b[0;34m:\u001b[0m\u001b[0;34m\u001b[0m\u001b[0m\n\u001b[1;32m    224\u001b[0m             return [func(*args, **kwargs)\n\u001b[0;32m--> 225\u001b[0;31m                     for func, args, kwargs in self.items]\n\u001b[0m\u001b[1;32m    226\u001b[0m \u001b[0;34m\u001b[0m\u001b[0m\n\u001b[1;32m    227\u001b[0m     \u001b[0;32mdef\u001b[0m \u001b[0m__len__\u001b[0m\u001b[0;34m(\u001b[0m\u001b[0mself\u001b[0m\u001b[0;34m)\u001b[0m\u001b[0;34m:\u001b[0m\u001b[0;34m\u001b[0m\u001b[0m\n",
      "\u001b[0;32m/anaconda3/lib/python3.6/site-packages/sklearn/model_selection/_validation.py\u001b[0m in \u001b[0;36m_fit_and_score\u001b[0;34m(estimator, X, y, scorer, train, test, verbose, parameters, fit_params, return_train_score, return_parameters, return_n_test_samples, return_times, return_estimator, error_score)\u001b[0m\n\u001b[1;32m    526\u001b[0m             \u001b[0mestimator\u001b[0m\u001b[0;34m.\u001b[0m\u001b[0mfit\u001b[0m\u001b[0;34m(\u001b[0m\u001b[0mX_train\u001b[0m\u001b[0;34m,\u001b[0m \u001b[0;34m**\u001b[0m\u001b[0mfit_params\u001b[0m\u001b[0;34m)\u001b[0m\u001b[0;34m\u001b[0m\u001b[0m\n\u001b[1;32m    527\u001b[0m         \u001b[0;32melse\u001b[0m\u001b[0;34m:\u001b[0m\u001b[0;34m\u001b[0m\u001b[0m\n\u001b[0;32m--> 528\u001b[0;31m             \u001b[0mestimator\u001b[0m\u001b[0;34m.\u001b[0m\u001b[0mfit\u001b[0m\u001b[0;34m(\u001b[0m\u001b[0mX_train\u001b[0m\u001b[0;34m,\u001b[0m \u001b[0my_train\u001b[0m\u001b[0;34m,\u001b[0m \u001b[0;34m**\u001b[0m\u001b[0mfit_params\u001b[0m\u001b[0;34m)\u001b[0m\u001b[0;34m\u001b[0m\u001b[0m\n\u001b[0m\u001b[1;32m    529\u001b[0m \u001b[0;34m\u001b[0m\u001b[0m\n\u001b[1;32m    530\u001b[0m     \u001b[0;32mexcept\u001b[0m \u001b[0mException\u001b[0m \u001b[0;32mas\u001b[0m \u001b[0me\u001b[0m\u001b[0;34m:\u001b[0m\u001b[0;34m\u001b[0m\u001b[0m\n",
      "\u001b[0;32m/anaconda3/lib/python3.6/site-packages/sklearn/ensemble/gradient_boosting.py\u001b[0m in \u001b[0;36mfit\u001b[0;34m(self, X, y, sample_weight, monitor)\u001b[0m\n\u001b[1;32m   1463\u001b[0m         n_stages = self._fit_stages(X, y, y_pred, sample_weight, self._rng,\n\u001b[1;32m   1464\u001b[0m                                     \u001b[0mX_val\u001b[0m\u001b[0;34m,\u001b[0m \u001b[0my_val\u001b[0m\u001b[0;34m,\u001b[0m \u001b[0msample_weight_val\u001b[0m\u001b[0;34m,\u001b[0m\u001b[0;34m\u001b[0m\u001b[0m\n\u001b[0;32m-> 1465\u001b[0;31m                                     begin_at_stage, monitor, X_idx_sorted)\n\u001b[0m\u001b[1;32m   1466\u001b[0m \u001b[0;34m\u001b[0m\u001b[0m\n\u001b[1;32m   1467\u001b[0m         \u001b[0;31m# change shape of arrays after fit (early-stopping or additional ests)\u001b[0m\u001b[0;34m\u001b[0m\u001b[0;34m\u001b[0m\u001b[0m\n",
      "\u001b[0;32m/anaconda3/lib/python3.6/site-packages/sklearn/ensemble/gradient_boosting.py\u001b[0m in \u001b[0;36m_fit_stages\u001b[0;34m(self, X, y, y_pred, sample_weight, random_state, X_val, y_val, sample_weight_val, begin_at_stage, monitor, X_idx_sorted)\u001b[0m\n\u001b[1;32m   1527\u001b[0m             y_pred = self._fit_stage(i, X, y, y_pred, sample_weight,\n\u001b[1;32m   1528\u001b[0m                                      \u001b[0msample_mask\u001b[0m\u001b[0;34m,\u001b[0m \u001b[0mrandom_state\u001b[0m\u001b[0;34m,\u001b[0m \u001b[0mX_idx_sorted\u001b[0m\u001b[0;34m,\u001b[0m\u001b[0;34m\u001b[0m\u001b[0m\n\u001b[0;32m-> 1529\u001b[0;31m                                      X_csc, X_csr)\n\u001b[0m\u001b[1;32m   1530\u001b[0m \u001b[0;34m\u001b[0m\u001b[0m\n\u001b[1;32m   1531\u001b[0m             \u001b[0;31m# track deviance (= loss)\u001b[0m\u001b[0;34m\u001b[0m\u001b[0;34m\u001b[0m\u001b[0m\n",
      "\u001b[0;32m/anaconda3/lib/python3.6/site-packages/sklearn/ensemble/gradient_boosting.py\u001b[0m in \u001b[0;36m_fit_stage\u001b[0;34m(self, i, X, y, y_pred, sample_weight, sample_mask, random_state, X_idx_sorted, X_csc, X_csr)\u001b[0m\n\u001b[1;32m   1197\u001b[0m             loss.update_terminal_regions(tree.tree_, X, y, residual, y_pred,\n\u001b[1;32m   1198\u001b[0m                                          \u001b[0msample_weight\u001b[0m\u001b[0;34m,\u001b[0m \u001b[0msample_mask\u001b[0m\u001b[0;34m,\u001b[0m\u001b[0;34m\u001b[0m\u001b[0m\n\u001b[0;32m-> 1199\u001b[0;31m                                          self.learning_rate, k=k)\n\u001b[0m\u001b[1;32m   1200\u001b[0m \u001b[0;34m\u001b[0m\u001b[0m\n\u001b[1;32m   1201\u001b[0m             \u001b[0;31m# add tree to ensemble\u001b[0m\u001b[0;34m\u001b[0m\u001b[0;34m\u001b[0m\u001b[0m\n",
      "\u001b[0;32m/anaconda3/lib/python3.6/site-packages/sklearn/ensemble/gradient_boosting.py\u001b[0m in \u001b[0;36mupdate_terminal_regions\u001b[0;34m(self, tree, X, y, residual, y_pred, sample_weight, sample_mask, learning_rate, k)\u001b[0m\n\u001b[1;32m    393\u001b[0m \u001b[0;34m\u001b[0m\u001b[0m\n\u001b[1;32m    394\u001b[0m         \u001b[0;31m# update each leaf (= perform line search)\u001b[0m\u001b[0;34m\u001b[0m\u001b[0;34m\u001b[0m\u001b[0m\n\u001b[0;32m--> 395\u001b[0;31m         \u001b[0;32mfor\u001b[0m \u001b[0mleaf\u001b[0m \u001b[0;32min\u001b[0m \u001b[0mnp\u001b[0m\u001b[0;34m.\u001b[0m\u001b[0mwhere\u001b[0m\u001b[0;34m(\u001b[0m\u001b[0mtree\u001b[0m\u001b[0;34m.\u001b[0m\u001b[0mchildren_left\u001b[0m \u001b[0;34m==\u001b[0m \u001b[0mTREE_LEAF\u001b[0m\u001b[0;34m)\u001b[0m\u001b[0;34m[\u001b[0m\u001b[0;36m0\u001b[0m\u001b[0;34m]\u001b[0m\u001b[0;34m:\u001b[0m\u001b[0;34m\u001b[0m\u001b[0m\n\u001b[0m\u001b[1;32m    396\u001b[0m             self._update_terminal_region(tree, masked_terminal_regions,\n\u001b[1;32m    397\u001b[0m                                          \u001b[0mleaf\u001b[0m\u001b[0;34m,\u001b[0m \u001b[0mX\u001b[0m\u001b[0;34m,\u001b[0m \u001b[0my\u001b[0m\u001b[0;34m,\u001b[0m \u001b[0mresidual\u001b[0m\u001b[0;34m,\u001b[0m\u001b[0;34m\u001b[0m\u001b[0m\n",
      "\u001b[0;31mKeyboardInterrupt\u001b[0m: "
     ]
    }
   ],
   "source": [
    "#Grid Search\n",
    "gs_SVC = grid_search_func_tt(model_SVC, params_SVC, X_train, X_test, y_train, y_test, scoring_function=metrics.r2_score, \n",
    "                     scoring='r2',cv=5)\n",
    "gs_MLP = grid_search_func_tt(model_MLP, params_MLP, X_train, X_test, y_train, y_test, scoring_function=metrics.r2_score, \n",
    "                     scoring='r2',cv=5)\n",
    "gs_BGC = grid_search_func_tt(model_BGC, params_BGC, X_train, X_test, y_train, y_test, scoring_function=metrics.r2_score, \n",
    "                     scoring='r2',cv=5)\n",
    "gs_LR = grid_search_func_tt(model_LR, params_LR, X_train, X_test, y_train, y_test, scoring_function=metrics.r2_score, \n",
    "                     scoring='r2',cv=5)\n",
    "gs_VC = grid_search_func_tt(model_VC, params_VC, X_train, X_test, y_train, y_test, scoring_function=metrics.r2_score, \n",
    "                     scoring='r2',cv=5)\n",
    "gs_GBC = grid_search_func_tt(model_GBC, params_GBC, X_train, X_test, y_train, y_test, scoring_function=metrics.r2_score, \n",
    "                     scoring='r2',cv=5)\n"
   ]
  },
  {
   "cell_type": "code",
   "execution_count": null,
   "metadata": {},
   "outputs": [],
   "source": [
    "#Comparing the CV, Test & Train Scores\n",
    "cv_train = []\n",
    "cv_test = []\n",
    "train = []\n",
    "test = []\n",
    "gs_models =[gs_SVC.best_estimator_,gs_MLP.best_estimator_, gs_BGC.best_estimator_,\n",
    "            gs_LR.best_estimator_, gs_VC.best_estimator_, gs_GBC.best_estimator_]\n",
    "for model in gs_models:\n",
    "    cv_test.append(cross_val_score(model, X_test, y_test, cv=5).mean())\n",
    "    cv_train.append(cross_val_score(model, X_train, y_train, cv=5).mean())\n",
    "    model.fit(X_train,y_train)\n",
    "    train.append(model.score(X_train, y_train))\n",
    "    test.append(model.score(X_test, y_test))\n",
    "    \n",
    "scores_df = pd.DataFrame(cv_train, index=['SVC','MLP','BGC','LR','VC', 'GBC'])   \n",
    "scores_df.columns=['CV Train Score']\n",
    "scores_df['CV Test Score'] = cv_test\n",
    "scores_df['Training Data Accuracy Score'] = train\n",
    "scores_df['Testing Data Accuracy Score'] = test\n",
    "scores_df['Train-Test Difference'] = scores_df['Training Data Accuracy Score'] - scores_df['Testing Data Accuracy Score']\n",
    "scores_df.sort_values('CV Train Score', ascending=False)"
   ]
  },
  {
   "cell_type": "markdown",
   "metadata": {},
   "source": [
    "- Here I used Grid Search to analyse different parameters for each model and have a better score. \n",
    "- Score_Compare function shows the difference between train and test scores. Here the train & test scores are close each other, which shows there isn't overfittin at the dataset, and the model is training the data well while the test scores are close to the train scores. \n",
    "- Above we can see that overall the models are not overfitting the data. \n",
    "- When we check the CV_Train scores it will give us the correct accuracy scores on a not overfitted, regularized dataset. As a result the highest scored model is **BGC Model**.\n"
   ]
  },
  {
   "cell_type": "markdown",
   "metadata": {},
   "source": [
    "** Accuracy Scores **"
   ]
  },
  {
   "cell_type": "code",
   "execution_count": null,
   "metadata": {},
   "outputs": [],
   "source": [
    "y_pred_class_SVC = gs_SVC.best_estimator_.predict(X_train)\n",
    "print(metrics.accuracy_score(y_train, y_pred_class_SVC))"
   ]
  },
  {
   "cell_type": "code",
   "execution_count": null,
   "metadata": {},
   "outputs": [],
   "source": [
    "y_pred_class_MLP = gs_MLP.best_estimator_.predict(X_train)\n",
    "print(metrics.accuracy_score(y_train, y_pred_class_MLP))"
   ]
  },
  {
   "cell_type": "code",
   "execution_count": null,
   "metadata": {},
   "outputs": [],
   "source": [
    "y_pred_class_BGC = gs_BGC.best_estimator_.predict(X_train)\n",
    "print(metrics.accuracy_score(y_train, y_pred_class_BGC))"
   ]
  },
  {
   "cell_type": "code",
   "execution_count": null,
   "metadata": {},
   "outputs": [],
   "source": [
    "y_pred_class_LR = gs_LR.best_estimator_.predict(X_train)\n",
    "print(metrics.accuracy_score(y_train, y_pred_class_LR))"
   ]
  },
  {
   "cell_type": "code",
   "execution_count": null,
   "metadata": {},
   "outputs": [],
   "source": [
    "y_pred_class_VC = gs_VC.best_estimator_.predict(X_train)\n",
    "print(metrics.accuracy_score(y_train, y_pred_class_VC))"
   ]
  },
  {
   "cell_type": "code",
   "execution_count": null,
   "metadata": {},
   "outputs": [],
   "source": [
    "y_pred_class_GBC = gs_GBC.best_estimator_.predict(X_train)\n",
    "print(metrics.accuracy_score(y_train, y_pred_class_GBC))"
   ]
  },
  {
   "cell_type": "markdown",
   "metadata": {},
   "source": [
    "- When we compare the accuracy scores with the baseline, if the scores are higher than the baseline the model is working well, then we can choose the highest score as our best model. In this case baseline is 0.55 and models have higher score than the baseline, so the best model is **gs_VC**."
   ]
  },
  {
   "cell_type": "markdown",
   "metadata": {},
   "source": [
    "** Confusion Matrix & ROC, AUC, Precision, Recall Scores **"
   ]
  },
  {
   "cell_type": "code",
   "execution_count": null,
   "metadata": {},
   "outputs": [],
   "source": [
    "from sklearn.metrics import auc, precision_score, recall_score"
   ]
  },
  {
   "cell_type": "markdown",
   "metadata": {},
   "source": [
    "**SVC**"
   ]
  },
  {
   "cell_type": "code",
   "execution_count": null,
   "metadata": {},
   "outputs": [],
   "source": [
    "print(confusion_matrix(y_train, y_pred_class_SVC))"
   ]
  },
  {
   "cell_type": "code",
   "execution_count": null,
   "metadata": {},
   "outputs": [],
   "source": [
    "#False Positive Rate\n",
    "32/644"
   ]
  },
  {
   "cell_type": "code",
   "execution_count": null,
   "metadata": {
    "scrolled": true
   },
   "outputs": [],
   "source": [
    "prob_SVC = pd.DataFrame(gs_SVC.best_estimator_.predict_proba(X_train), columns=['class_0','class_1'])"
   ]
  },
  {
   "cell_type": "code",
   "execution_count": null,
   "metadata": {},
   "outputs": [],
   "source": [
    "fpr_SVC, tpr_SVC, threshold_SVC = roc_curve(y_train, prob_SVC.class_1)"
   ]
  },
  {
   "cell_type": "markdown",
   "metadata": {},
   "source": [
    "**MLP**"
   ]
  },
  {
   "cell_type": "code",
   "execution_count": null,
   "metadata": {},
   "outputs": [],
   "source": [
    "print(confusion_matrix(y_train, y_pred_class_MLP))"
   ]
  },
  {
   "cell_type": "code",
   "execution_count": null,
   "metadata": {},
   "outputs": [],
   "source": [
    "#False Positive Rate\n",
    "37/644"
   ]
  },
  {
   "cell_type": "code",
   "execution_count": null,
   "metadata": {},
   "outputs": [],
   "source": [
    "prob_MLP = pd.DataFrame(gs_MLP.best_estimator_.predict_proba(X_train), columns=['class_0','class_1'])"
   ]
  },
  {
   "cell_type": "code",
   "execution_count": null,
   "metadata": {},
   "outputs": [],
   "source": [
    "fpr_MLP, tpr_MLP, threshold_MLP = roc_curve(y_train, prob_MLP.class_1)"
   ]
  },
  {
   "cell_type": "markdown",
   "metadata": {},
   "source": [
    "**GBC**"
   ]
  },
  {
   "cell_type": "code",
   "execution_count": null,
   "metadata": {},
   "outputs": [],
   "source": [
    "print(confusion_matrix(y_train, y_pred_class_GBC))"
   ]
  },
  {
   "cell_type": "code",
   "execution_count": null,
   "metadata": {},
   "outputs": [],
   "source": [
    "#False Positive Rate\n",
    "30/644"
   ]
  },
  {
   "cell_type": "code",
   "execution_count": null,
   "metadata": {},
   "outputs": [],
   "source": [
    "prob_GBC = pd.DataFrame(gs_GBC.best_estimator_.predict_proba(X_train), columns=['class_0','class_1'])"
   ]
  },
  {
   "cell_type": "code",
   "execution_count": null,
   "metadata": {},
   "outputs": [],
   "source": [
    "fpr_GBC, tpr_GBC, threshold_GBC = roc_curve(y_train, prob_GBC.class_1)"
   ]
  },
  {
   "cell_type": "markdown",
   "metadata": {},
   "source": [
    "**BGC**"
   ]
  },
  {
   "cell_type": "code",
   "execution_count": null,
   "metadata": {},
   "outputs": [],
   "source": [
    "print(confusion_matrix(y_train, y_pred_class_BGC))"
   ]
  },
  {
   "cell_type": "code",
   "execution_count": null,
   "metadata": {},
   "outputs": [],
   "source": [
    "#False Positive Rate\n",
    "26/644"
   ]
  },
  {
   "cell_type": "code",
   "execution_count": null,
   "metadata": {},
   "outputs": [],
   "source": [
    "prob_BGC = pd.DataFrame(gs_BGC.best_estimator_.predict_proba(X_train), columns=['class_0','class_1'])"
   ]
  },
  {
   "cell_type": "code",
   "execution_count": null,
   "metadata": {},
   "outputs": [],
   "source": [
    "fpr_BGC, tpr_BGC, threshold_BGC = roc_curve(y_train, prob_BGC.class_1)"
   ]
  },
  {
   "cell_type": "markdown",
   "metadata": {},
   "source": [
    "**LR**"
   ]
  },
  {
   "cell_type": "code",
   "execution_count": null,
   "metadata": {},
   "outputs": [],
   "source": [
    "print(confusion_matrix(y_train, y_pred_class_LR))"
   ]
  },
  {
   "cell_type": "code",
   "execution_count": null,
   "metadata": {},
   "outputs": [],
   "source": [
    "#False Positive Rate\n",
    "35/644"
   ]
  },
  {
   "cell_type": "code",
   "execution_count": null,
   "metadata": {},
   "outputs": [],
   "source": [
    "prob_LR = pd.DataFrame(gs_LR.best_estimator_.predict_proba(X_train), columns=['class_0','class_1'])"
   ]
  },
  {
   "cell_type": "code",
   "execution_count": null,
   "metadata": {},
   "outputs": [],
   "source": [
    "fpr_LR, tpr_LR, threshold_LR = roc_curve(y_train, prob_LR.class_1)"
   ]
  },
  {
   "cell_type": "markdown",
   "metadata": {},
   "source": [
    "**VC**"
   ]
  },
  {
   "cell_type": "code",
   "execution_count": null,
   "metadata": {},
   "outputs": [],
   "source": [
    "print(confusion_matrix(y_train, y_pred_class_VC))"
   ]
  },
  {
   "cell_type": "code",
   "execution_count": null,
   "metadata": {},
   "outputs": [],
   "source": [
    "#False Positive Rate\n",
    "19/644"
   ]
  },
  {
   "cell_type": "code",
   "execution_count": null,
   "metadata": {},
   "outputs": [],
   "source": [
    "prob_VC = pd.DataFrame(gs_VC.best_estimator_.predict_proba(X_train), columns=['class_0','class_1'])"
   ]
  },
  {
   "cell_type": "code",
   "execution_count": null,
   "metadata": {},
   "outputs": [],
   "source": [
    "fpr_VC, tpr_VC, threshold_VC = roc_curve(y_train, prob_VC.class_1)"
   ]
  },
  {
   "cell_type": "code",
   "execution_count": null,
   "metadata": {},
   "outputs": [],
   "source": [
    "#Data Frame of all the scores for each model\n",
    "df_scores = pd.DataFrame({'CV Train Score' : [cross_val_score(gs_SVC.best_estimator_, X_train, y_train, cv=5).mean(),\n",
    "                                             cross_val_score(gs_MLP.best_estimator_, X_train, y_train, cv=5).mean(),\n",
    "                                             cross_val_score(gs_GBC.best_estimator_, X_train, y_train, cv=5).mean(),\n",
    "                                             cross_val_score(gs_BGC.best_estimator_, X_train, y_train, cv=5).mean(),\n",
    "                                             cross_val_score(gs_LR.best_estimator_, X_train, y_train, cv=5).mean(),\n",
    "                                             cross_val_score(gs_VC.best_estimator_, X_train, y_train, cv=5).mean()] ,\n",
    "                          \n",
    "                          'AccuracyScore': [metrics.accuracy_score(y_train, y_pred_class_SVC),\n",
    "                                            metrics.accuracy_score(y_train, y_pred_class_MLP), \n",
    "                                            metrics.accuracy_score(y_train, y_pred_class_GBC),\n",
    "                                            metrics.accuracy_score(y_train, y_pred_class_BGC),\n",
    "                                            metrics.accuracy_score(y_train, y_pred_class_LR), \n",
    "                                            metrics.accuracy_score(y_train, y_pred_class_VC) ],\n",
    "                          \n",
    "                          'ROCScore' : [roc_auc_score(y_train,prob_SVC.class_1),\n",
    "                                        roc_auc_score(y_train,prob_MLP.class_1), \n",
    "                                        roc_auc_score(y_train,prob_GBC.class_1), \n",
    "                                        roc_auc_score(y_train,prob_BGC.class_1),\n",
    "                                        roc_auc_score(y_train,prob_LR.class_1),\n",
    "                                        roc_auc_score(y_train,prob_VC.class_1) ],\n",
    "                          \n",
    "                          'AUCScore' : [auc(fpr_SVC,tpr_SVC), auc(fpr_MLP,tpr_MLP), auc(fpr_GBC,tpr_GBC), \n",
    "                                        auc(fpr_BGC,tpr_BGC), auc(fpr_LR,tpr_LR), auc(fpr_VC,tpr_VC)\n",
    "      ],\n",
    "                          'PrecisionScore' : [precision_score(y_train,y_pred_class_SVC), \n",
    "                                              precision_score(y_train,y_pred_class_MLP), \n",
    "                                              precision_score(y_train,y_pred_class_GBC), \n",
    "                                              precision_score(y_train,y_pred_class_BGC),\n",
    "                                              precision_score(y_train,y_pred_class_LR),\n",
    "                                              precision_score(y_train,y_pred_class_VC)\n",
    "       ], \n",
    "                          'RecallScore' : [recall_score(y_train,y_pred_class_SVC),\n",
    "                                           recall_score(y_train,y_pred_class_MLP),\n",
    "                                           recall_score(y_train,y_pred_class_GBC),\n",
    "                                           recall_score(y_train,y_pred_class_BGC),\n",
    "                                           recall_score(y_train,y_pred_class_LR), \n",
    "                                           recall_score(y_train,y_pred_class_VC),\n",
    "       \n",
    "      ]}, index = ['SVC','MLP','GBC','BGC','LR','VC'])\n",
    "\n",
    "df_scores"
   ]
  },
  {
   "cell_type": "markdown",
   "metadata": {},
   "source": [
    "- After all the analysis and modelling, the best model is **BGC** with **87%** accuracy score. Next section I used the best model on a different data frame where I didn't predict the missing values and dropped them. This is showing me if predicting missing values increase or decrease the prediction accuracy.\n",
    "- Additionally **BGC**'s false positive score is 0.04 (diagnosing the subject as healthy but the subject is diseased)."
   ]
  },
  {
   "cell_type": "code",
   "execution_count": null,
   "metadata": {},
   "outputs": [],
   "source": [
    "tp = np.sum((y_train == 1) & (y_pred_class_BGC == 1))\n",
    "fp = np.sum((y_train == 0) & (y_pred_class_BGC == 1))\n",
    "tn = np.sum((y_train == 0) & (y_pred_class_BGC == 0))\n",
    "fn = np.sum((y_train == 1) & (y_pred_class_BGC == 0))\n",
    "print(\"tp:\", tp)\n",
    "print(\"fp:\", fp)\n",
    "print(\"tn:\", tn) \n",
    "print(\"fn:\", fn)\n",
    "print(\"Number of classification errors:\", fp+fn)"
   ]
  },
  {
   "cell_type": "code",
   "execution_count": null,
   "metadata": {},
   "outputs": [],
   "source": [
    "n_groups = 6\n",
    "\n",
    "x_name = ['SVC','MLP','GBC','BGC','LR','VC']\n",
    "\n",
    "fig = plt.figure(figsize=(12,15))\n",
    "index = np.arange(n_groups)\n",
    "bar_width = 0.15\n",
    "opacity = 0.8\n",
    "\n",
    "rects1 = plt.bar(index, df_scores['CV Train Score'], bar_width, \n",
    "                 alpha=opacity, color='lightgreen', label='CV Train Score')\n",
    "rects2 = plt.bar(index + bar_width, df_scores.AccuracyScore, bar_width,  \n",
    "                alpha=opacity, color='yellow', label='Accuracy Score')\n",
    "rects3 = plt.bar(index + bar_width*2, df_scores.ROCScore, bar_width, \n",
    "                 alpha=opacity, color='orange', label='ROC Score')\n",
    "rects4 = plt.bar(index + bar_width*3, df_scores.AUCScore, bar_width,  \n",
    "                alpha=opacity, color='red', label='AUC Score')\n",
    "rects5 = plt.bar(index + bar_width*4, df_scores.PrecisionScore, bar_width, \n",
    "                 alpha=opacity, color='lightblue', label='Precision Score')\n",
    "rects6 = plt.bar(index + bar_width*5, df_scores.RecallScore, bar_width,  \n",
    "                alpha=opacity, color='blue', label='Recall Score')\n",
    "\n",
    "plt.xlabel('Model Comparison')\n",
    "plt.ylabel('Scores')\n",
    "plt.title('GridSearch Model Score Comparison')\n",
    "plt.xticks(index + bar_width*3, x_name)\n",
    "plt.legend()\n",
    " \n",
    "plt.tight_layout()\n",
    "plt.show();"
   ]
  },
  {
   "cell_type": "code",
   "execution_count": null,
   "metadata": {},
   "outputs": [],
   "source": [
    "CV = [cross_val_score(gs_SVC.best_estimator_, X_train, y_train, cv=5).mean(),\n",
    "      cross_val_score(gs_MLP.best_estimator_, X_train, y_train, cv=5).mean(),\n",
    "      cross_val_score(gs_GBC.best_estimator_, X_train, y_train, cv=5).mean(),\n",
    "      cross_val_score(gs_BGC.best_estimator_, X_train, y_train, cv=5).mean(),\n",
    "      cross_val_score(gs_LR.best_estimator_, X_train, y_train, cv=5).mean(),\n",
    "      cross_val_score(gs_VC.best_estimator_, X_train, y_train, cv=5).mean()] \n",
    "fig = plt.figure(figsize=(12,15))\n",
    "index = ['SVC','MLP','GBC','BGC','LR','VC']\n",
    "y_pos = np.arange(len(index))\n",
    "\n",
    "plt.barh(y_pos, CV, align='center', alpha=0.5, color=['yellow', 'orange', 'red', 'magenta', 'green', 'blue'])\n",
    "plt.yticks(y_pos, index)\n",
    "plt.xlabel('CV Train Score')\n",
    "plt.title('Best Model CV Scores')\n",
    " \n",
    "plt.show();"
   ]
  },
  {
   "cell_type": "code",
   "execution_count": null,
   "metadata": {},
   "outputs": [],
   "source": [
    "best_models = [SVC(random_state=random_state),\n",
    "               MLPClassifier(hidden_layer_sizes=(100,),momentum=0.9,solver='sgd',random_state=random_state),\n",
    "               GradientBoostingClassifier(random_state=random_state),\n",
    "               BaggingClassifier(KNeighborsClassifier(),random_state=random_state),\n",
    "               LogisticRegression(random_state=random_state),\n",
    "               VotingClassifier(estimators=[('log', LogisticRegression()), ('SVM',SVC(C=1000)),                \n",
    "                                            ('MLP', MLPClassifier(hidden_layer_sizes=(100,)))], voting='hard')]\n",
    "\n",
    "cv_train = []\n",
    "for model in best_models:\n",
    "    cv_train.append(cross_val_score(model, X_train, y_train, cv=5).mean())\n",
    "    \n",
    "scores_cv_train = pd.DataFrame(cv_train, index=models_names)   \n",
    "scores_cv_train.columns=['CV Train Score']"
   ]
  },
  {
   "cell_type": "code",
   "execution_count": null,
   "metadata": {},
   "outputs": [],
   "source": [
    "x_names = ['SVC','MLP','GBC','BGC','LR','VC']\n",
    "index = np.arange(n_groups)\n",
    "fig = plt.figure(figsize=(12,15))\n",
    "bar_width = 0.3\n",
    "opacity = 0.8\n",
    "\n",
    "rects1 = plt.bar(index, scores_df['CV Train Score'], bar_width, \n",
    "                 alpha=opacity, color='blue', label='Without GridSearch')\n",
    "rects2 = plt.bar(index + bar_width, df_scores['CV Train Score'], bar_width,  \n",
    "                alpha=opacity, color='lightblue', label='With GridSearch')\n",
    "\n",
    "plt.xlabel('Score Comparison')\n",
    "plt.ylabel('CV Train Scores')\n",
    "plt.title('Score Change with Grid Search')\n",
    "plt.xticks(index + bar_width, x_names)\n",
    "plt.legend()\n",
    " \n",
    "plt.tight_layout()\n",
    "plt.show();"
   ]
  },
  {
   "cell_type": "markdown",
   "metadata": {},
   "source": [
    "# 5. Comparison \n",
    "\n",
    "In this section I will use the selected best model and compare my result with another data frame. I will run the same model without predicting the null values (excluding the null values) and see if the model improved by predicting the missing values or not. \n",
    "\n",
    "This will help me to see the difference and importance of predicting null values. \n",
    "\n",
    "1. Define the new Data Frame \n",
    "    - Drop the null values\n",
    "    - Define X&y values\n",
    "2. Model the new Data Frame\n",
    "3. Compare the scores dropped vs. predicted null values"
   ]
  },
  {
   "cell_type": "markdown",
   "metadata": {},
   "source": [
    "### Dropping Null Values "
   ]
  },
  {
   "cell_type": "code",
   "execution_count": null,
   "metadata": {},
   "outputs": [],
   "source": [
    "df_dropnull = pd.read_csv('../Jupyter Notebook/df_null.csv')"
   ]
  },
  {
   "cell_type": "code",
   "execution_count": null,
   "metadata": {},
   "outputs": [],
   "source": [
    "df_dropnull.isnull().sum()"
   ]
  },
  {
   "cell_type": "code",
   "execution_count": null,
   "metadata": {},
   "outputs": [],
   "source": [
    "df_dropnull.dropna(inplace = True)"
   ]
  },
  {
   "cell_type": "code",
   "execution_count": null,
   "metadata": {},
   "outputs": [],
   "source": [
    "df_dropnull.isnull().sum()"
   ]
  },
  {
   "cell_type": "markdown",
   "metadata": {},
   "source": [
    "** Data Description **"
   ]
  },
  {
   "cell_type": "code",
   "execution_count": null,
   "metadata": {},
   "outputs": [],
   "source": [
    "df_dropnull.shape"
   ]
  },
  {
   "cell_type": "code",
   "execution_count": null,
   "metadata": {},
   "outputs": [],
   "source": [
    "df_dropnull.info()"
   ]
  },
  {
   "cell_type": "code",
   "execution_count": null,
   "metadata": {},
   "outputs": [],
   "source": [
    "df_dropnull.describe()"
   ]
  },
  {
   "cell_type": "code",
   "execution_count": null,
   "metadata": {},
   "outputs": [],
   "source": [
    "df_dropnull.corr()[['pred_attribute']].sort_values('pred_attribute',ascending=False)"
   ]
  },
  {
   "cell_type": "markdown",
   "metadata": {},
   "source": [
    "- By checking the correlation, we can see the relationship between columns. The pred_attribute is highly correlated with ** olpeak, cp, exang, slop, thalach(negative relationship) **. \n",
    "- In section 4, I also concluded that that pred_attribute is highly correlated with **oldpeak, exang, slop, cp, thalach(negative relationship)**. \n",
    "- The related feutures and relationship doesn't change even if we the drop the null values or predict them."
   ]
  },
  {
   "cell_type": "markdown",
   "metadata": {},
   "source": [
    "** Define X&y **"
   ]
  },
  {
   "cell_type": "code",
   "execution_count": null,
   "metadata": {
    "scrolled": true
   },
   "outputs": [],
   "source": [
    "X = df_dropnull[['age', 'sex', 'cp', 'trestbps', 'chol', 'fbs', 'restecg','thalach', \n",
    "                    'exang', 'oldpeak', 'slop', 'ca', 'thal', 'origin']]\n",
    "y = df_dropnull[['pred_attribute']]\n",
    "y['pred_attribute'].replace(to_replace = [1,2,3,4], value = [1,1,1,1], inplace = True)\n",
    "y = y.pred_attribute\n",
    "\n",
    "#baseline\n",
    "print('Baseline:', y.value_counts(normalize=True))\n",
    "\n",
    "#get dummies for categorical variables\n",
    "X_dumm = pd.get_dummies(X, columns = ['sex','cp','origin','restecg','exang','fbs','slop','thal','ca'], \n",
    "                        drop_first = True)\n",
    "\n",
    "#standardize the X\n",
    "Xs = scaler.fit_transform(X_dumm)\n",
    "Xs = pd.DataFrame(Xs, columns=X_dumm.columns)\n",
    "\n",
    "#train-test split\n",
    "X_train_dn, X_test_dn, y_train_dn, y_test_dn = train_test_split(Xs, y, test_size = 0.3, random_state=random_state)"
   ]
  },
  {
   "cell_type": "markdown",
   "metadata": {},
   "source": [
    "### Modelling "
   ]
  },
  {
   "cell_type": "markdown",
   "metadata": {},
   "source": [
    "** Using the best model **"
   ]
  },
  {
   "cell_type": "code",
   "execution_count": null,
   "metadata": {
    "scrolled": true
   },
   "outputs": [],
   "source": [
    "gs_BGC_dn = grid_search_func_tt(model_BGC, params_BGC, X_train_dn, X_test_dn, y_train_dn, y_test_dn, \n",
    "                            scoring_function=metrics.r2_score, scoring='r2',cv=5)"
   ]
  },
  {
   "cell_type": "markdown",
   "metadata": {},
   "source": [
    "** Scores ** "
   ]
  },
  {
   "cell_type": "code",
   "execution_count": null,
   "metadata": {},
   "outputs": [],
   "source": [
    "score_compare(X_train_dn,X_test_dn,y_train_dn,y_test_dn,gs_BGC_dn.best_estimator_)"
   ]
  },
  {
   "cell_type": "code",
   "execution_count": null,
   "metadata": {},
   "outputs": [],
   "source": [
    "y_pred_class_BGC_dn = gs_BGC_dn.best_estimator_.predict(X_train_dn)\n",
    "print(metrics.accuracy_score(y_train_dn, y_pred_class_BGC_dn))"
   ]
  },
  {
   "cell_type": "code",
   "execution_count": null,
   "metadata": {},
   "outputs": [],
   "source": [
    "prob_BGC_dn = pd.DataFrame(gs_BGC_dn.best_estimator_.predict_proba(X_train_dn), columns=['class_0','class_1'])"
   ]
  },
  {
   "cell_type": "code",
   "execution_count": null,
   "metadata": {
    "scrolled": true
   },
   "outputs": [],
   "source": [
    "print(confusion_matrix(y_train_dn, y_pred_class_BGC_dn))"
   ]
  },
  {
   "cell_type": "code",
   "execution_count": null,
   "metadata": {},
   "outputs": [],
   "source": [
    "19/414"
   ]
  },
  {
   "cell_type": "code",
   "execution_count": null,
   "metadata": {},
   "outputs": [],
   "source": [
    "tp = np.sum((y_train_dn == 1) & (y_pred_class_BGC_dn == 1))\n",
    "fp = np.sum((y_train_dn == 0) & (y_pred_class_BGC_dn == 1))\n",
    "tn = np.sum((y_train_dn == 0) & (y_pred_class_BGC_dn == 0))\n",
    "fn = np.sum((y_train_dn == 1) & (y_pred_class_BGC_dn == 0))\n",
    "print(\"tp:\", tp)\n",
    "print(\"fp:\", fp)\n",
    "print(\"tn:\", tn) \n",
    "print(\"fn:\", fn)\n",
    "print(\"Number of classification errors:\", fp+fn)"
   ]
  },
  {
   "cell_type": "code",
   "execution_count": null,
   "metadata": {},
   "outputs": [],
   "source": [
    "#False Positive Rate\n",
    "19/414"
   ]
  },
  {
   "cell_type": "markdown",
   "metadata": {},
   "source": [
    "### Comparison of Dropped vs. Predicted Null Values "
   ]
  },
  {
   "cell_type": "code",
   "execution_count": null,
   "metadata": {},
   "outputs": [],
   "source": [
    "fpr_BGC_dn, tpr_BGC_dn, threshold_BGC_dn = roc_curve(y_train_dn, prob_BGC_dn.class_1)\n",
    "fpr_BGC, tpr_BGC, threshold_BGC = roc_curve(y_train, prob_BGC.class_1)"
   ]
  },
  {
   "cell_type": "code",
   "execution_count": null,
   "metadata": {
    "scrolled": true
   },
   "outputs": [],
   "source": [
    "#Data Frame of all the scores for each model\n",
    "\n",
    "df_scores_2 = pd.DataFrame({'CV_TrainScore' : [cross_val_score(gs_BGC.best_estimator_, X_train, y_train, cv=5).mean(),\n",
    "                                               cross_val_score(gs_BGC_dn.best_estimator_, X_train_dn, y_train_dn, cv=5).mean(),],\n",
    "                            'AccuracyScore' : [metrics.accuracy_score(y_train, y_pred_class_BGC), \n",
    "                                               metrics.accuracy_score(y_train_dn, y_pred_class_BGC_dn)],\n",
    "                            'ROCScore' : [roc_auc_score(y_train,prob_BGC.class_1),\n",
    "                                          roc_auc_score(y_train_dn,prob_BGC_dn.class_1)],\n",
    "                            'AUCScore' : [auc(fpr_BGC,tpr_BGC), auc(fpr_BGC_dn,tpr_BGC_dn)],\n",
    "                            'PrecisionScore' : [precision_score(y_train,y_pred_class_BGC), \n",
    "                                                precision_score(y_train_dn,y_pred_class_BGC_dn)],\n",
    "                            'RecallScore' : [recall_score(y_train,y_pred_class_BGC),\n",
    "                                             recall_score(y_train_dn,y_pred_class_BGC_dn)]}, \n",
    "                         index = ['PredictedNull','DroppedNull'])\n",
    "df_scores_2"
   ]
  },
  {
   "cell_type": "code",
   "execution_count": null,
   "metadata": {},
   "outputs": [],
   "source": [
    "pd.DataFrame({'AccuracyScore':[metrics.accuracy_score(y_train, y_pred_class_BGC), \n",
    "                  metrics.accuracy_score(y_train_dn, y_pred_class_BGC_dn)]}, index = ['PredictedNull','DroppedNull'])"
   ]
  },
  {
   "cell_type": "markdown",
   "metadata": {},
   "source": [
    "The accuracy score of dropped missing value is **0.86** and the predicted one is **0.91**. Overall the analysis shows us **predicting the missing values** has better analysis than dropping the null values. "
   ]
  },
  {
   "cell_type": "markdown",
   "metadata": {},
   "source": [
    "For this classification model I want my recall and precision score to be as high as possible. A precision score of 1 indicates that the classifier never mistakenly classified the current class as another class. Precision score of 0 would mean that the classifier misclassified every instance of the current class. Which means the model will not mistakenly predict a sick person as healthy. In this case the recall and precision scores of predicted null values are higher than the dropped null values."
   ]
  },
  {
   "cell_type": "code",
   "execution_count": null,
   "metadata": {},
   "outputs": [],
   "source": [
    "CV =[cross_val_score(gs_BGC.best_estimator_, X_train, y_train, cv=5).mean(),\n",
    "     cross_val_score(gs_BGC_dn.best_estimator_, X_train_dn, y_train_dn, cv=5).mean(),]\n",
    "AS = [metrics.accuracy_score(y_train, y_pred_class_BGC),metrics.accuracy_score(y_train_dn, y_pred_class_BGC_dn)]\n",
    "ROC = [roc_auc_score(y_train,prob_BGC.class_1), roc_auc_score(y_train_dn,prob_BGC_dn.class_1)]\n",
    "AUC = [auc(fpr_BGC,tpr_BGC), auc(fpr_BGC_dn,tpr_BGC_dn)]\n",
    "PS = [precision_score(y_train,y_pred_class_BGC), precision_score(y_train_dn,y_pred_class_BGC_dn)]\n",
    "RC = [recall_score(y_train,y_pred_class_BGC), recall_score(y_train_dn,y_pred_class_BGC_dn)]\n",
    "\n",
    "n_groups = 6\n",
    "\n",
    "pred_null = [cross_val_score(gs_BGC.best_estimator_, X_train, y_train, cv=5).mean(),\n",
    "             metrics.accuracy_score(y_train, y_pred_class_BGC), roc_auc_score(y_train,prob_BGC.class_1),\n",
    "             auc(fpr_BGC,tpr_BGC), precision_score(y_train,y_pred_class_BGC), recall_score(y_train,y_pred_class_BGC)]\n",
    "\n",
    "drop_null = [cross_val_score(gs_BGC_dn.best_estimator_, X_train_dn, y_train_dn, cv=5).mean(),\n",
    "             metrics.accuracy_score(y_train_dn, y_pred_class_BGC_dn), roc_auc_score(y_train_dn,prob_BGC_dn.class_1),\n",
    "             auc(fpr_BGC_dn,tpr_BGC_dn), precision_score(y_train_dn,y_pred_class_BGC_dn), \n",
    "             recall_score(y_train_dn,y_pred_class_BGC_dn)]\n",
    "\n",
    "fig, ax = plt.subplots()\n",
    "index = np.arange(n_groups)\n",
    "bar_width = 0.35\n",
    "opacity = 0.8\n",
    "\n",
    "rects1 = plt.bar(index, pred_null, bar_width, alpha=opacity, color='orange', label='Pred Null')\n",
    "rects2 = plt.bar(index + bar_width, drop_null, bar_width, alpha=opacity, color='green', label='Dropped Null')\n",
    "\n",
    "plt.xlabel('Comparison')\n",
    "plt.ylabel('Scores')\n",
    "plt.title('Dropped Null vs Predicted Null Score Comparison')\n",
    "plt.xticks(index + bar_width, ('CV','Accuracy','ROC','AUC','Precision','Recall'))\n",
    "plt.legend()\n",
    " \n",
    "plt.tight_layout()\n",
    "plt.show()"
   ]
  },
  {
   "cell_type": "code",
   "execution_count": null,
   "metadata": {},
   "outputs": [],
   "source": [
    "prob_BGC = pd.DataFrame(gs_BGC.best_estimator_.predict_proba(X_train), columns=['class_0','class_1'])"
   ]
  },
  {
   "cell_type": "code",
   "execution_count": null,
   "metadata": {},
   "outputs": [],
   "source": [
    "# ROC Curve Graph for Dropped Missing Value Data Frame\n",
    "fpr, tpr, threshold = roc_curve(y_train_dn, prob_BGC_dn.class_1)\n",
    "roc_auc = auc(fpr, tpr)\n",
    "\n",
    "# Plot of a ROC curve for class 1 (has heart disease)\n",
    "plt.figure(figsize=[6,6])\n",
    "plt.plot(fpr, tpr, label='ROC curve (area = %0.2f)' % roc_auc, linewidth=4, color = 'r')\n",
    "plt.plot([0, 1], [0, 1], 'k--', linewidth=4)\n",
    "plt.xlim([-0.05, 1.0])\n",
    "plt.ylim([-0.05, 1.05])\n",
    "plt.xlabel('False Positive Rate', fontsize=18)\n",
    "plt.ylabel('True Positive Rate', fontsize=18)\n",
    "plt.title('Heart Disease Prediction', fontsize=18)\n",
    "plt.legend(loc=\"lower right\")\n",
    "plt.show()"
   ]
  },
  {
   "cell_type": "code",
   "execution_count": null,
   "metadata": {},
   "outputs": [],
   "source": [
    "import scikitplot as skplt\n",
    "from matplotlib.colors import ListedColormap\n",
    "cmap = ListedColormap(sns.color_palette(\"husl\",3))"
   ]
  },
  {
   "cell_type": "code",
   "execution_count": null,
   "metadata": {},
   "outputs": [],
   "source": [
    "def plot_f1_lines(figsize=(8,6),fontsize=16):\n",
    "    '''Create f1-score level lines to be added to the precison-recall plot'''\n",
    "\n",
    "    fig, ax = plt.subplots(figsize=figsize)\n",
    "    \n",
    "    # add lines of constant F1 scores\n",
    "    \n",
    "    for const in np.linspace(0.2,0.9,8):\n",
    "        x_vals = np.linspace(0.001, 0.999, 100)\n",
    "        y_vals = 1./(2./const-1./x_vals)\n",
    "        ax.plot(x_vals[y_vals > 0], y_vals[y_vals > 0],\n",
    "                 color='lightblue', ls='--', alpha=0.9)\n",
    "        ax.set_ylim([0, 1])\n",
    "        ax.annotate('f1={0:0.1f}'.format(const),\n",
    "                     xy=(x_vals[-10], y_vals[-2]+0.0), fontsize=fontsize)\n",
    "\n",
    "    return fig, ax"
   ]
  },
  {
   "cell_type": "code",
   "execution_count": null,
   "metadata": {},
   "outputs": [],
   "source": [
    "fig, ax = plot_f1_lines()\n",
    "skplt.metrics.plot_precision_recall(y_train_dn,  prob_BGC_dn, \n",
    "                       plot_micro=True, \n",
    "                       title_fontsize=20, text_fontsize=16, cmap=cmap, ax=ax)\n",
    "ax.legend(loc=[1.1,0])\n",
    "plt.show()"
   ]
  },
  {
   "cell_type": "code",
   "execution_count": null,
   "metadata": {},
   "outputs": [],
   "source": [
    "# ROC Curve Graph for Predicted Missing Value Data Frame\n",
    "fpr, tpr, threshold = roc_curve(y_train,  prob_BGC.class_1)\n",
    "roc_auc = auc(fpr, tpr)\n",
    "\n",
    "# Plot of a ROC curve for class 1 (has heart disease)\n",
    "plt.figure(figsize=[6,6])\n",
    "plt.plot(fpr, tpr, label='ROC curve (area = %0.2f)' % roc_auc, linewidth=4, color = 'r')\n",
    "plt.plot([0, 1], [0, 1], 'k--', linewidth=4)\n",
    "plt.xlim([-0.05, 1.0])\n",
    "plt.ylim([-0.05, 1.05])\n",
    "plt.xlabel('False Positive Rate', fontsize=18)\n",
    "plt.ylabel('True Positive Rate', fontsize=18)\n",
    "plt.title('Heart Disease Prediction', fontsize=18)\n",
    "plt.legend(loc=\"lower right\")\n",
    "plt.show()"
   ]
  },
  {
   "cell_type": "code",
   "execution_count": null,
   "metadata": {},
   "outputs": [],
   "source": [
    "fig, ax = plot_f1_lines()\n",
    "skplt.metrics.plot_precision_recall(y_train,  prob_BGC, plot_micro=True, title_fontsize=20, text_fontsize=16, \n",
    "                                    cmap=cmap, ax=ax)\n",
    "ax.legend(loc=[1.1,0])\n",
    "plt.show()"
   ]
  },
  {
   "cell_type": "markdown",
   "metadata": {},
   "source": [
    "# 6. Conclusion"
   ]
  },
  {
   "cell_type": "markdown",
   "metadata": {},
   "source": [
    "All in all, by the analysis we can see that predicting the missing values increases the accuracy. I used two different ways to predict the missing values, first was predicting the whole dataset once, second was predicting by separating the dataset into sex and disease classes. At the end predicting missing values by separating different classes was a better prediction, while it increased the disease prediction. Additionally, both approaches had higher disease prediction than dropping the missing values. On the other hand, using different modelling for the dataset will help us see different methods and increase the accuracy of our analysis at the end. \n",
    "\n",
    "Our best model with predicting the missing values has **0.91** of prediction score, if we drop the missing values the score decreases to **0.86**. On the other hand, eliminating less related columns does not help, thus having all the columns is a better way to predict disease. The decrease in the scores are also caused by the number of subjects(patients). If we had more subjects the predictions would have been more accurate. \n",
    "\n",
    "Additionally, the recall and precision scores are very important for healthcare classification analysis. When we predicted the null values the recall & precision scores were higher, where recall score is 0.91 and precision score is 0.92. \n",
    "\n",
    "In conclusion, this project helps us to predict a heart disease on a subject with **91%** accuracy (by predicting the missing values), which can help doctors to diagnose heart diseases faster. This will increase the time efficiency on the diagnosis and continue with the further testing faster to cure the diseases. "
   ]
  },
  {
   "cell_type": "markdown",
   "metadata": {},
   "source": [
    "## Risks & Difficulties\n",
    "    \n",
    "The risks for the project:\n",
    "- The correlation between the columns are not very high \n",
    "- While I was doing the missing value predictions for each model the scores were not as high as I expected. \n",
    "    - Thus, I split the data frame into sex and pred_attribute to have more accurate predictions for missing values.\n",
    "\n",
    "The difficulties:\n",
    "1. Missing Value Prediction\n",
    "    1. GridSearch parameters for categorical modelling\n",
    "        - I struggled what to put into the parameters for my categorical modelling. At the end I left it with the default.    \n",
    "    2. Low modelling scores\n",
    "        - I had lower scores when I first predicted the missing values. By changing my approach and split the data frame into four different categories the scores increased.\n",
    "2. Heart Disease Prediction\n",
    "    1. The scores were overall very high and close to each other, the interpretation was almost the same. \n",
    "    2. Choosing Different Models\n",
    "        - It was hard to find different models to use for my predictions, then I found a kernel on Kaggle which helped me a lot. \n",
    "    3. Improving the model\n",
    "        - After choosing the best columns and compare the new accuracy scores, the scores were decreased. I was hoping to have a better result. This shows my first assumption to improve the accuracy was not right. \n",
    "        - Comparing the dropped null data frame scores with the predicted one was a great approach.\n",
    "    4. Interpretation \n",
    "        - During the whole course the biggest struggle for me was the interpretation and again in this report I needed to understand and explain all the results. It was a great practice and I need to work on that more to improve my analysis. \n",
    "        \n",
    "Most of the difficulties were during predicting the missing values, and while using different models understanding the whole theories and concepts of the models. The project helped me understand different models and how prediction can change in different circumstances. "
   ]
  },
  {
   "cell_type": "markdown",
   "metadata": {},
   "source": [
    "## Next Steps\n",
    "\n",
    "This project showed us how to predict heart diseases with highest accuracy. Next, we can increase the analysis by collecting more data, and increase the variety. As a result, our prediction accuracy scores will be higher. I can also predict diseases more specifically and give patients recommendations and how they can continue their treatments. This will help patients understand their disease and help them get through this process. "
   ]
  }
 ],
 "metadata": {
  "kernelspec": {
   "display_name": "Python 3",
   "language": "python",
   "name": "python3"
  },
  "language_info": {
   "codemirror_mode": {
    "name": "ipython",
    "version": 3
   },
   "file_extension": ".py",
   "mimetype": "text/x-python",
   "name": "python",
   "nbconvert_exporter": "python",
   "pygments_lexer": "ipython3",
   "version": "3.6.5"
  }
 },
 "nbformat": 4,
 "nbformat_minor": 2
}
